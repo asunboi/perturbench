{
 "cells": [
  {
   "cell_type": "code",
   "execution_count": 35,
   "metadata": {},
   "outputs": [],
   "source": [
    "import numpy as np\n",
    "import pandas as pd\n",
    "\n",
    "def simulate_perturb_nb(\n",
    "    G=2000,                  # number of genes\n",
    "    C=4,                     # number of cell types\n",
    "    P=6,                     # number of perturbations\n",
    "    cells_per_combo=50,      # cells per (cell_type, perturbation)\n",
    "    seed=42,\n",
    "\n",
    "    # effect scale params\n",
    "    sg=0.5,                  # std for Ag\n",
    "    sc=0.4,                  # std for Agc (for active genes)\n",
    "    spg=0.3,                 # std for Apg\n",
    "    use_fixed_sp=False,      # if True, Apgc active effects are +/-Sp (fixed); else N(0, sp^2)\n",
    "    sp=0.5,                  # fixed magnitude for Apgc if use_fixed_sp=True\n",
    "    sp_std=0.5,              # std for Apgc if use_fixed_sp=False\n",
    "\n",
    "    # sparsity\n",
    "    frac_celltype_specific=0.10,  # 10% of genes have Agc\n",
    "    frac_perturb_specific=0.01,   # 1% of (g,p,c) have Apgc\n",
    "\n",
    "    # library size per cell\n",
    "    libsize_mode=\"lognormal\",     # \"lognormal\" or \"constant\"\n",
    "    lib_logmean=10.0,             # log-mean for library size\n",
    "    lib_logsd=0.25,               # log-sd for library size\n",
    "    lib_constant=1e4,             # constant library size if mode=\"constant\"\n",
    "\n",
    "    # negative binomial dispersion (r). Var = mu + mu^2 / r\n",
    "    nb_r=1.5,\n",
    "\n",
    "    # return options\n",
    "    return_anndata=True           # if anndata unavailable, falls back to DataFrame\n",
    "):\n",
    "    rng = np.random.default_rng(seed)\n",
    "\n",
    "    # --- indices / shapes ---\n",
    "    genes = np.array([f\"g{i:04d}\" for i in range(G)])\n",
    "    cell_types = np.array([f\"c{i}\" for i in range(C)])\n",
    "    perts = np.array([f\"p{i}\" for i in range(P)])\n",
    "\n",
    "    # total cells\n",
    "    Ncells = C * P * cells_per_combo\n",
    "\n",
    "    # --- effects ---\n",
    "    # Ag: (G,)\n",
    "    Ag = rng.normal(0.0, sg, size=G)\n",
    "\n",
    "    # Agc: (G, C) with 10% active genes\n",
    "    active_g_for_c = rng.random(G) < frac_celltype_specific\n",
    "    Agc = np.zeros((G, C), dtype=float)\n",
    "    Agc[active_g_for_c, :] = rng.normal(0.0, sc, size=(active_g_for_c.sum(), C))\n",
    "\n",
    "    # Apg: (G, P) common across cell types for each (g, p)\n",
    "    Apg = rng.normal(0.0, spg, size=(G, P))\n",
    "\n",
    "    # Apgc: (G, P, C), 1% active at (g,p,c)\n",
    "    Apgc = np.zeros((G, P, C), dtype=float)\n",
    "    active_gpc = rng.random((G, P, C)) < frac_perturb_specific\n",
    "    if use_fixed_sp:\n",
    "        signs = rng.choice([-1.0, 1.0], size=(G, P, C))\n",
    "        Apgc[active_gpc] = signs[active_gpc] * sp\n",
    "    else:\n",
    "        Apgc[active_gpc] = rng.normal(0.0, sp_std, size=active_gpc.sum())\n",
    "\n",
    "    # --- build per-cell metadata ---\n",
    "    obs_ct = np.repeat(np.arange(C), P * cells_per_combo)\n",
    "    obs_pt = np.tile(np.repeat(np.arange(P), cells_per_combo), C)\n",
    "    assert obs_ct.shape[0] == obs_pt.shape[0] == Ncells\n",
    "\n",
    "    # library sizes per cell\n",
    "    if libsize_mode == \"lognormal\":\n",
    "        lib_sizes = rng.lognormal(mean=lib_logmean, sigma=lib_logsd, size=Ncells)\n",
    "    elif libsize_mode == \"constant\":\n",
    "        lib_sizes = np.full(Ncells, lib_constant, dtype=float)\n",
    "    else:\n",
    "        raise ValueError(\"libsize_mode must be 'lognormal' or 'constant'.\")\n",
    "\n",
    "    # --- compute mean mu for each (g, cell) ---\n",
    "    # For a cell from (c, p): log-mu = Ag + Agc[:, c] + Apg[:, p] + Apgc[:, p, c]\n",
    "    # mu = lib_size_cell * exp(log-mu)\n",
    "    log_mu = (\n",
    "        Ag[:, None]\n",
    "        + Agc[:, obs_ct]                      # (G, Ncells)\n",
    "        + Apg[:, obs_pt]\n",
    "        + Apgc[:, obs_pt, obs_ct]\n",
    "    )\n",
    "    mu = np.exp(log_mu) * lib_sizes  # (G, Ncells)\n",
    "\n",
    "    # --- sample counts: NB(mu, r) via Gamma-Poisson mixture ---\n",
    "    # NB with mean mu and size r: lambda ~ Gamma(shape=r, scale=mu/r), then X ~ Poisson(lambda)\n",
    "    r = nb_r\n",
    "    # Avoid zeros/underflow\n",
    "    mu_safe = np.maximum(mu, 1e-12)\n",
    "    lam = rng.gamma(shape=r, scale=mu_safe / r)\n",
    "    X = rng.poisson(lam).astype(np.int32)     # (G, Ncells)\n",
    "\n",
    "    # --- package outputs ---\n",
    "    obs = pd.DataFrame({\n",
    "        \"cell_type\": cell_types[obs_ct],\n",
    "        \"perturbation\": perts[obs_pt],\n",
    "        \"library_size\": lib_sizes\n",
    "    }, index=[f\"cell{i:06d}\" for i in range(Ncells)])\n",
    "\n",
    "    var = pd.DataFrame(index=genes)\n",
    "\n",
    "    results = {\n",
    "        \"X\": X,                 # counts (G x Ncells)\n",
    "        \"obs\": obs,             # cells metadata (Ncells x 3)\n",
    "        \"var\": var,             # genes metadata (G x 0)\n",
    "        \"Ag\": Ag,\n",
    "        \"Agc\": Agc,\n",
    "        \"Apg\": Apg,\n",
    "        \"Apgc\": Apgc,\n",
    "        \"params\": dict(G=G, C=C, P=P, cells_per_combo=cells_per_combo,\n",
    "                       sg=sg, sc=sc, spg=spg, use_fixed_sp=use_fixed_sp, sp=sp,\n",
    "                       sp_std=sp_std, frac_celltype_specific=frac_celltype_specific,\n",
    "                       frac_perturb_specific=frac_perturb_specific, nb_r=nb_r,\n",
    "                       libsize_mode=libsize_mode, lib_logmean=lib_logmean,\n",
    "                       lib_logsd=lib_logsd, lib_constant=lib_constant, seed=seed)\n",
    "    }\n",
    "\n",
    "    if return_anndata:\n",
    "        try:\n",
    "            import anndata as ad\n",
    "            adata = ad.AnnData(X=X.T, obs=obs.copy(), var=var.copy())  # cells x genes\n",
    "            return adata, results\n",
    "        except Exception:\n",
    "            pass  # fall through to DataFrame return\n",
    "\n",
    "    # Fallback: wide DataFrame (may be huge)\n",
    "    df_counts = pd.DataFrame(X.T, index=obs.index, columns=genes)\n",
    "    return df_counts, results"
   ]
  },
  {
   "cell_type": "code",
   "execution_count": 75,
   "metadata": {},
   "outputs": [],
   "source": [
    "import random, numpy as np\n",
    "\n",
    "SEED = 1\n",
    "random.seed(SEED)\n",
    "np.random.seed(SEED)"
   ]
  },
  {
   "cell_type": "code",
   "execution_count": 36,
   "metadata": {},
   "outputs": [
    {
     "name": "stdout",
     "output_type": "stream",
     "text": [
      "AnnData object with n_obs × n_vars = 300 × 1000\n",
      "    obs: 'cell_type', 'perturbation', 'library_size'\n",
      "{'G': 1000, 'C': 3, 'P': 5, 'cells_per_combo': 20, 'sg': 0.5, 'sc': 0.4, 'spg': 0.3, 'use_fixed_sp': False, 'sp': 0.5, 'sp_std': 0.5, 'frac_celltype_specific': 0.1, 'frac_perturb_specific': 0.01, 'nb_r': 1.5, 'libsize_mode': 'lognormal', 'lib_logmean': 10.0, 'lib_logsd': 0.25, 'lib_constant': 10000.0, 'seed': 1}\n"
     ]
    }
   ],
   "source": [
    "# ---- Example usage ----\n",
    "adata, info = simulate_perturb_nb(G=1000, C=3, P=5, cells_per_combo=20, seed=1)\n",
    "print(adata)\n",
    "print(info[\"params\"])"
   ]
  },
  {
   "cell_type": "code",
   "execution_count": 7,
   "metadata": {},
   "outputs": [
    {
     "data": {
      "text/plain": [
       "array([[ 32572,  23404,  19404,  20827, 136088],\n",
       "       [ 43431,  17055,  23695,  49391,   5729],\n",
       "       [ 60125,   4535,  52527,   3937,  59015],\n",
       "       [ 24490,  28271,  19228,  30306,  31133],\n",
       "       [ 43298,   8681,  57595,  22515,  48120]], dtype=int32)"
      ]
     },
     "execution_count": 7,
     "metadata": {},
     "output_type": "execute_result"
    }
   ],
   "source": [
    "adata.X[:5,:5]"
   ]
  },
  {
   "cell_type": "code",
   "execution_count": 10,
   "metadata": {},
   "outputs": [],
   "source": [
    "G=2000                  # number of genes\n",
    "C=4                     # number of cell types\n",
    "P=6                     # number of perturbations\n",
    "cells_per_combo=50      # cells per (cell_type, perturbation)\n",
    "seed=42\n",
    "\n",
    "# effect scale params\n",
    "sg=0.5                  # std for Ag\n",
    "sc=0.4                  # std for Agc (for active genes)\n",
    "spg=0.3                 # std for Apg\n",
    "use_fixed_sp=False      # if True, Apgc active effects are +/-Sp (fixed); else N(0, sp^2)\n",
    "sp=0.5                  # fixed magnitude for Apgc if use_fixed_sp=True\n",
    "sp_std=0.5              # std for Apgc if use_fixed_sp=False\n",
    "\n",
    "# sparsity\n",
    "frac_celltype_specific=0.10  # 10% of genes have Agc\n",
    "frac_perturb_specific=0.01   # 1% of (g,p,c) have Apgc\n",
    "\n",
    "# library size per cell\n",
    "libsize_mode=\"lognormal\"     # \"lognormal\" or \"constant\"\n",
    "lib_logmean=10.0             # log-mean for library size\n",
    "lib_logsd=0.25               # log-sd for library size\n",
    "lib_constant=1e4             # constant library size if mode=\"constant\"\n",
    "\n",
    "# negative binomial dispersion (r). Var = mu + mu^2 / r\n",
    "nb_r=1.5\n",
    "\n",
    "# return options\n",
    "return_anndata=True           # if anndata unavailable, falls back to DataFrame\n",
    "rng = np.random.default_rng(seed)\n",
    "\n",
    "# --- indices / shapes ---\n",
    "genes = np.array([f\"g{i:04d}\" for i in range(G)])\n",
    "cell_types = np.array([f\"c{i}\" for i in range(C)])\n",
    "perts = np.array([f\"p{i}\" for i in range(P)])\n",
    "\n",
    "# total cells\n",
    "Ncells = C * P * cells_per_combo\n",
    "\n",
    "# --- effects ---\n",
    "# Ag: (G,)\n",
    "Ag = rng.normal(0.0, sg, size=G)\n",
    "\n",
    "# Agc: (G, C) with 10% active genes\n",
    "active_g_for_c = rng.random(G) < frac_celltype_specific\n",
    "Agc = np.zeros((G, C), dtype=float)\n",
    "Agc[active_g_for_c, :] = rng.normal(0.0, sc, size=(active_g_for_c.sum(), C))\n",
    "\n",
    "# Apg: (G, P) common across cell types for each (g, p)\n",
    "Apg = rng.normal(0.0, spg, size=(G, P))\n",
    "\n",
    "# Apgc: (G, P, C), 1% active at (g,p,c)\n",
    "Apgc = np.zeros((G, P, C), dtype=float)\n",
    "active_gpc = rng.random((G, P, C)) < frac_perturb_specific\n",
    "if use_fixed_sp:\n",
    "    signs = rng.choice([-1.0, 1.0], size=(G, P, C))\n",
    "    Apgc[active_gpc] = signs[active_gpc] * sp\n",
    "else:\n",
    "    Apgc[active_gpc] = rng.normal(0.0, sp_std, size=active_gpc.sum())\n",
    "\n",
    "# --- build per-cell metadata ---\n",
    "obs_ct = np.repeat(np.arange(C), P * cells_per_combo)\n",
    "obs_pt = np.tile(np.repeat(np.arange(P), cells_per_combo), C)\n",
    "assert obs_ct.shape[0] == obs_pt.shape[0] == Ncells\n",
    "\n",
    "# library sizes per cell\n",
    "if libsize_mode == \"lognormal\":\n",
    "    lib_sizes = rng.lognormal(mean=lib_logmean, sigma=lib_logsd, size=Ncells)\n",
    "elif libsize_mode == \"constant\":\n",
    "    lib_sizes = np.full(Ncells, lib_constant, dtype=float)\n",
    "else:\n",
    "    raise ValueError(\"libsize_mode must be 'lognormal' or 'constant'.\")\n",
    "\n",
    "# --- compute mean mu for each (g, cell) ---\n",
    "# For a cell from (c, p): log-mu = Ag + Agc[:, c] + Apg[:, p] + Apgc[:, p, c]\n",
    "# mu = lib_size_cell * exp(log-mu)\n",
    "log_mu = (\n",
    "    Ag[:, None]\n",
    "    + Agc[:, obs_ct]                      # (G, Ncells)\n",
    "    + Apg[:, obs_pt]\n",
    "    + Apgc[:, obs_pt, obs_ct]\n",
    ")\n",
    "mu = np.exp(log_mu) * lib_sizes  # (G, Ncells)\n",
    "\n",
    "# --- sample counts: NB(mu, r) via Gamma-Poisson mixture ---\n",
    "# NB with mean mu and size r: lambda ~ Gamma(shape=r, scale=mu/r), then X ~ Poisson(lambda)\n",
    "r = nb_r\n",
    "# Avoid zeros/underflow\n",
    "mu_safe = np.maximum(mu, 1e-12)\n",
    "lam = rng.gamma(shape=r, scale=mu_safe / r)\n",
    "X = rng.poisson(lam).astype(np.int32)     # (G, Ncells)\n",
    "\n",
    "# --- package outputs ---\n",
    "obs = pd.DataFrame({\n",
    "    \"cell_type\": cell_types[obs_ct],\n",
    "    \"perturbation\": perts[obs_pt],\n",
    "    \"library_size\": lib_sizes\n",
    "}, index=[f\"cell{i:06d}\" for i in range(Ncells)])\n",
    "\n",
    "var = pd.DataFrame(index=genes)\n",
    "\n",
    "results = {\n",
    "    \"X\": X,                 # counts (G x Ncells)\n",
    "    \"obs\": obs,             # cells metadata (Ncells x 3)\n",
    "    \"var\": var,             # genes metadata (G x 0)\n",
    "    \"Ag\": Ag,\n",
    "    \"Agc\": Agc,\n",
    "    \"Apg\": Apg,\n",
    "    \"Apgc\": Apgc,\n",
    "    \"params\": dict(G=G, C=C, P=P, cells_per_combo=cells_per_combo,\n",
    "                    sg=sg, sc=sc, spg=spg, use_fixed_sp=use_fixed_sp, sp=sp,\n",
    "                    sp_std=sp_std, frac_celltype_specific=frac_celltype_specific,\n",
    "                    frac_perturb_specific=frac_perturb_specific, nb_r=nb_r,\n",
    "                    libsize_mode=libsize_mode, lib_logmean=lib_logmean,\n",
    "                    lib_logsd=lib_logsd, lib_constant=lib_constant, seed=seed)\n",
    "}\n",
    "\n",
    "if return_anndata:\n",
    "    try:\n",
    "        import anndata as ad\n",
    "        adata = ad.AnnData(X=X.T, obs=obs.copy(), var=var.copy())  # cells x genes\n",
    "    except Exception:\n",
    "        pass  # fall through to DataFrame return\n",
    "\n",
    "# Fallback: wide DataFrame (may be huge)\n",
    "df_counts = pd.DataFrame(X.T, index=obs.index, columns=genes)"
   ]
  },
  {
   "cell_type": "code",
   "execution_count": 24,
   "metadata": {},
   "outputs": [
    {
     "data": {
      "text/plain": [
       "(1200,)"
      ]
     },
     "execution_count": 24,
     "metadata": {},
     "output_type": "execute_result"
    }
   ],
   "source": [
    "log_mu[1].shape"
   ]
  },
  {
   "cell_type": "code",
   "execution_count": 16,
   "metadata": {},
   "outputs": [
    {
     "data": {
      "text/plain": [
       "array([[-0.02647705, -0.02647705, -0.02647705, ..., -0.8011255 ,\n",
       "        -0.8011255 , -0.8011255 ],\n",
       "       [ 0.        ,  0.        ,  0.        , ...,  0.        ,\n",
       "         0.        ,  0.        ],\n",
       "       [ 0.        ,  0.        ,  0.        , ...,  0.        ,\n",
       "         0.        ,  0.        ],\n",
       "       ...,\n",
       "       [ 0.        ,  0.        ,  0.        , ...,  0.        ,\n",
       "         0.        ,  0.        ],\n",
       "       [ 0.        ,  0.        ,  0.        , ...,  0.        ,\n",
       "         0.        ,  0.        ],\n",
       "       [ 0.        ,  0.        ,  0.        , ...,  0.        ,\n",
       "         0.        ,  0.        ]])"
      ]
     },
     "execution_count": 16,
     "metadata": {},
     "output_type": "execute_result"
    }
   ],
   "source": [
    "Agc[:, obs_ct]"
   ]
  },
  {
   "cell_type": "code",
   "execution_count": 25,
   "metadata": {},
   "outputs": [
    {
     "data": {
      "text/plain": [
       "AnnData object with n_obs × n_vars = 1200 × 2000\n",
       "    obs: 'cell_type', 'perturbation', 'library_size'"
      ]
     },
     "execution_count": 25,
     "metadata": {},
     "output_type": "execute_result"
    }
   ],
   "source": [
    "adata"
   ]
  },
  {
   "cell_type": "code",
   "execution_count": 17,
   "metadata": {},
   "outputs": [
    {
     "data": {
      "text/plain": [
       "array([0, 0, 0, ..., 3, 3, 3])"
      ]
     },
     "execution_count": 17,
     "metadata": {},
     "output_type": "execute_result"
    }
   ],
   "source": [
    "obs_ct"
   ]
  },
  {
   "cell_type": "code",
   "execution_count": 15,
   "metadata": {},
   "outputs": [
    {
     "data": {
      "text/plain": [
       "perturbation\n",
       "p0    200\n",
       "p1    200\n",
       "p2    200\n",
       "p3    200\n",
       "p4    200\n",
       "p5    200\n",
       "Name: count, dtype: int64"
      ]
     },
     "execution_count": 15,
     "metadata": {},
     "output_type": "execute_result"
    }
   ],
   "source": [
    "adata.obs['perturbation'].value_counts()"
   ]
  },
  {
   "cell_type": "code",
   "execution_count": 18,
   "metadata": {},
   "outputs": [
    {
     "data": {
      "text/plain": [
       "cell_type\n",
       "c0    300\n",
       "c1    300\n",
       "c2    300\n",
       "c3    300\n",
       "Name: count, dtype: int64"
      ]
     },
     "execution_count": 18,
     "metadata": {},
     "output_type": "execute_result"
    }
   ],
   "source": [
    "adata.obs['cell_type'].value_counts()"
   ]
  },
  {
   "cell_type": "code",
   "execution_count": null,
   "metadata": {},
   "outputs": [],
   "source": [
    "# effect scale params\n",
    "    sg=0.5,                  # std for Ag\n",
    "    sc=1.2,                  # std for Agc (for active genes)\n",
    "    spg=0.0,                 # std for Apg\n",
    "    use_fixed_sp=False,      # if True, Apgc active effects are +/-Sp (fixed); else N(0, sp^2)\n",
    "    sp=0.5,                  # fixed magnitude for Apgc if use_fixed_sp=True\n",
    "    sp_std=0.08,              # std for Apgc if use_fixed_sp=False"
   ]
  },
  {
   "cell_type": "code",
   "execution_count": null,
   "metadata": {},
   "outputs": [],
   "source": [
    "    # effect scale params\n",
    "    sg=0.5,                  # std for Ag\n",
    "    sc=1.2,                  # std for Agc (for active genes)\n",
    "    spg=0.3,                 # std for Apg\n",
    "    use_fixed_sp=False,      # if True, Apgc active effects are +/-Sp (fixed); else N(0, sp^2)\n",
    "    sp=0.5,                  # fixed magnitude for Apgc if use_fixed_sp=True\n",
    "    sp_std=0.5,              # std for Apgc if use_fixed_sp=False\n",
    "\n",
    "    # sparsity\n",
    "    frac_celltype_specific=0.20,  # 10% of genes have Agc\n",
    "    frac_perturb_specific=0.01,   # 1% of (g,p,c) have Apgc"
   ]
  },
  {
   "cell_type": "code",
   "execution_count": 73,
   "metadata": {},
   "outputs": [
    {
     "data": {
      "text/plain": [
       "perturbation\n",
       "p0     1725\n",
       "p1     1725\n",
       "p2     1725\n",
       "p3     1725\n",
       "p4     1725\n",
       "p5     1725\n",
       "p6     1725\n",
       "p7     1725\n",
       "p8     1725\n",
       "p9     1725\n",
       "p10    1725\n",
       "NTC    1000\n",
       "Name: count, dtype: int64"
      ]
     },
     "execution_count": 73,
     "metadata": {},
     "output_type": "execute_result"
    }
   ],
   "source": [
    "import numpy as np\n",
    "import pandas as pd\n",
    "\n",
    "def simulate_perturb_nb(\n",
    "    G=2000,                  # number of genes\n",
    "    C=4,                     # number of cell types\n",
    "    P=6,                     # number of *perturbations* (excludes control)\n",
    "    cells_per_combo=50,      # cells per (cell_type, perturbation)\n",
    "    seed=42,\n",
    "\n",
    "    # effect scale params\n",
    "    sg=0.5,                  # std for Ag\n",
    "    sc=1.2,                  # std for Agc (for active genes)\n",
    "    spg=0.01,                 # std for Apg\n",
    "    use_fixed_sp=False,      # if True, Apgc active effects are +/-Sp (fixed); else N(0, sp^2)\n",
    "    sp=0.5,                  # fixed magnitude for Apgc if use_fixed_sp=True\n",
    "    sp_std=0.08,              # std for Apgc if use_fixed_sp=False\n",
    "\n",
    "    # sparsity\n",
    "    frac_celltype_specific=0.20,  # 10% of genes have Agc\n",
    "    frac_perturb_specific=0.01,   # 1% of (g,p,c) have Apgc\n",
    "\n",
    "    # library size per cell\n",
    "    libsize_mode=\"lognormal\",     # \"lognormal\" or \"constant\"\n",
    "    lib_logmean=10.0,             # log-mean for library size\n",
    "    lib_logsd=0.25,               # log-sd for library size\n",
    "    lib_constant=1e4,             # constant library size if mode=\"constant\"\n",
    "\n",
    "    # negative binomial dispersion (r). Var = mu + mu^2 / r\n",
    "    nb_r=1.5,\n",
    "\n",
    "    # CONTROL SETTINGS\n",
    "    add_control=True,             # add a control population per cell type\n",
    "    control_label=\"ctrl\",         # name shown in obs['perturbation']\n",
    "    control_cells_per_type=None,  # if None, uses cells_per_combo\n",
    "\n",
    "    # return options\n",
    "    return_anndata=True           # if anndata unavailable, falls back to DataFrame\n",
    "):\n",
    "    rng = np.random.default_rng(seed)\n",
    "\n",
    "    # --- indices / shapes ---\n",
    "    genes = np.array([f\"g{i:04d}\" for i in range(int(G))])\n",
    "    cell_types = np.array([f\"c{i}\" for i in range(int(C))])\n",
    "    perts = np.array([f\"p{i}\" for i in range(int(P))])  # excludes control\n",
    "    has_ctrl = bool(add_control)\n",
    "    ctrl_n = int(control_cells_per_type) if control_cells_per_type is not None else int(cells_per_combo)\n",
    "\n",
    "    # total cells = C * (P + (1 if ctrl)) * cells_per_combo (ctrl uses ctrl_n)\n",
    "    if has_ctrl:\n",
    "        Ncells = C * (P * cells_per_combo + ctrl_n)\n",
    "    else:\n",
    "        Ncells = C * P * cells_per_combo\n",
    "\n",
    "    # --- effects ---\n",
    "    # Ag: (G,)\n",
    "    Ag = rng.normal(0.0, sg, size=G)\n",
    "\n",
    "    # Agc: (G, C) with 10% active genes\n",
    "    active_g_for_c = rng.random(G) < frac_celltype_specific\n",
    "    Agc = np.zeros((G, C), dtype=float)\n",
    "    Agc[active_g_for_c, :] = rng.normal(0.0, sc, size=(active_g_for_c.sum(), C))\n",
    "\n",
    "    # Apg: (G, P) common across cell types for each (g, p)\n",
    "    Apg = rng.normal(0.0, spg, size=(G, P))\n",
    "\n",
    "    # Apgc: (G, P, C), 1% active at (g,p,c)\n",
    "    Apgc = np.zeros((G, P, C), dtype=float)\n",
    "    active_gpc = rng.random((G, P, C)) < frac_perturb_specific\n",
    "    if use_fixed_sp:\n",
    "        signs = rng.choice([-1.0, 1.0], size=(G, P, C))\n",
    "        Apgc[active_gpc] = signs[active_gpc] * sp\n",
    "    else:\n",
    "        Apgc[active_gpc] = rng.normal(0.0, sp_std, size=active_gpc.sum())\n",
    "\n",
    "    # ---- Extend perturbation axes to include CONTROL as an extra index with zero effect ----\n",
    "    # control index will be P (last column/slice)\n",
    "    if has_ctrl:\n",
    "        Apg_ext  = np.concatenate([Apg,  np.zeros((G, 1), dtype=float)], axis=1)      # (G, P+1)\n",
    "        Apgc_ext = np.concatenate([Apgc, np.zeros((G, 1, C), dtype=float)], axis=1)   # (G, P+1, C)\n",
    "        perts_ext = np.concatenate([perts, np.array([control_label])])\n",
    "        P_ext = P + 1\n",
    "    else:\n",
    "        Apg_ext, Apgc_ext, perts_ext = Apg, Apgc, perts\n",
    "        P_ext = P\n",
    "\n",
    "    # --- build per-cell metadata (ct, pt) ---\n",
    "    ct_list = []\n",
    "    pt_list = []\n",
    "    # For each cell type, append P blocks (each size cells_per_combo), and (optional) one control block (size ctrl_n)\n",
    "    for c in range(C):\n",
    "        # perturbation cells\n",
    "        for p in range(P):\n",
    "            ct_list.append(np.full(cells_per_combo, c, dtype=int))\n",
    "            pt_list.append(np.full(cells_per_combo, p, dtype=int))\n",
    "        # control cells\n",
    "        if has_ctrl:\n",
    "            ct_list.append(np.full(ctrl_n, c, dtype=int))\n",
    "            pt_list.append(np.full(ctrl_n, P, dtype=int))  # index P == control\n",
    "\n",
    "    obs_ct = np.concatenate(ct_list)  # (Ncells,)\n",
    "    obs_pt = np.concatenate(pt_list)  # (Ncells,)\n",
    "    assert obs_ct.shape[0] == obs_pt.shape[0] == Ncells\n",
    "\n",
    "    # library sizes per cell\n",
    "    if libsize_mode == \"lognormal\":\n",
    "        lib_sizes = rng.lognormal(mean=lib_logmean, sigma=lib_logsd, size=Ncells)\n",
    "    elif libsize_mode == \"constant\":\n",
    "        lib_sizes = np.full(Ncells, lib_constant, dtype=float)\n",
    "    else:\n",
    "        raise ValueError(\"libsize_mode must be 'lognormal' or 'constant'.\")\n",
    "\n",
    "    # --- compute mean mu for each (g, cell) ---\n",
    "    # For a cell from (c, p_ext):\n",
    "    # log-mu = Ag + Agc[:, c] + Apg_ext[:, p_ext] + Apgc_ext[:, p_ext, c]\n",
    "    log_mu = (\n",
    "        Ag[:, None]\n",
    "        + Agc[:, obs_ct]                     # (G, Ncells)\n",
    "        + Apg_ext[:, obs_pt]                 # control col is 0 -> no Apg\n",
    "        + Apgc_ext[:, obs_pt, obs_ct]        # control slice is 0 -> no Apgc\n",
    "    )\n",
    "    mu = np.exp(log_mu) * lib_sizes  # (G, Ncells)\n",
    "\n",
    "    # --- sample counts: NB(mu, r) via Gamma-Poisson mixture ---\n",
    "    r = nb_r\n",
    "    mu_safe = np.maximum(mu, 1e-12)\n",
    "    lam = rng.gamma(shape=r, scale=mu_safe / r)\n",
    "    X = rng.poisson(lam).astype(np.int32)     # (G, Ncells)\n",
    "\n",
    "    # --- package outputs ---\n",
    "    # Build perturbation labels aligned to obs_pt (with control appended if present)\n",
    "    obs = pd.DataFrame({\n",
    "        \"cell_type\": cell_types[obs_ct],\n",
    "        \"perturbation\": perts_ext[obs_pt],\n",
    "        \"library_size\": lib_sizes,\n",
    "        \"is_control\": (perts_ext[obs_pt] == control_label) if has_ctrl else False\n",
    "    }, index=[f\"cell{i:06d}\" for i in range(Ncells)])\n",
    "\n",
    "    var = pd.DataFrame(index=genes)\n",
    "\n",
    "    results = {\n",
    "        \"X\": X,                 # counts (G x Ncells)\n",
    "        \"obs\": obs,             # cells metadata (Ncells x 4)\n",
    "        \"var\": var,             # genes metadata (G x 0)\n",
    "        \"Ag\": Ag,\n",
    "        \"Agc\": Agc,\n",
    "        \"Apg\": Apg,\n",
    "        \"Apgc\": Apgc,\n",
    "        \"params\": dict(G=G, C=C, P=P, cells_per_combo=cells_per_combo,\n",
    "                       sg=sg, sc=sc, spg=spg, use_fixed_sp=use_fixed_sp, sp=sp,\n",
    "                       sp_std=sp_std, frac_celltype_specific=frac_celltype_specific,\n",
    "                       frac_perturb_specific=frac_perturb_specific, nb_r=nb_r,\n",
    "                       libsize_mode=libsize_mode, lib_logmean=lib_logmean,\n",
    "                       lib_logsd=lib_logsd, lib_constant=lib_constant, seed=seed,\n",
    "                       add_control=add_control, control_label=control_label,\n",
    "                       control_cells_per_type=ctrl_n)\n",
    "    }\n",
    "\n",
    "    if return_anndata:\n",
    "        try:\n",
    "            import anndata as ad\n",
    "            adata = ad.AnnData(X=X.T, obs=obs.copy(), var=var.copy())  # cells x genes\n",
    "            return adata, results\n",
    "        except Exception:\n",
    "            pass  # fall through to DataFrame return\n",
    "\n",
    "    # Fallback: wide DataFrame (may be huge)\n",
    "    df_counts = pd.DataFrame(X.T, index=obs.index, columns=genes)\n",
    "    return df_counts, results\n",
    "\n",
    "# # Example:\n",
    "adata, info = simulate_perturb_nb(G=2000, C=5, P=11, cells_per_combo=345,\n",
    "                                  add_control=True, control_label=\"NTC\",\n",
    "                                  control_cells_per_type=200, seed=1)\n",
    "adata.obs[\"perturbation\"].value_counts()"
   ]
  },
  {
   "cell_type": "code",
   "execution_count": 52,
   "metadata": {},
   "outputs": [
    {
     "data": {
      "text/plain": [
       "cell_type  perturbation\n",
       "c0         NTC             200\n",
       "           p0              345\n",
       "           p1              345\n",
       "           p2              345\n",
       "           p3              345\n",
       "           p4              345\n",
       "           p5              345\n",
       "           p6              345\n",
       "           p7              345\n",
       "           p8              345\n",
       "           p9              345\n",
       "           p10             345\n",
       "c1         NTC             200\n",
       "           p0              345\n",
       "           p1              345\n",
       "           p2              345\n",
       "           p3              345\n",
       "           p4              345\n",
       "           p5              345\n",
       "           p6              345\n",
       "           p7              345\n",
       "           p8              345\n",
       "           p9              345\n",
       "           p10             345\n",
       "c2         NTC             200\n",
       "           p0              345\n",
       "           p1              345\n",
       "           p2              345\n",
       "           p3              345\n",
       "           p4              345\n",
       "           p5              345\n",
       "           p6              345\n",
       "           p7              345\n",
       "           p8              345\n",
       "           p9              345\n",
       "           p10             345\n",
       "c3         NTC             200\n",
       "           p0              345\n",
       "           p1              345\n",
       "           p2              345\n",
       "           p3              345\n",
       "           p4              345\n",
       "           p5              345\n",
       "           p6              345\n",
       "           p7              345\n",
       "           p8              345\n",
       "           p9              345\n",
       "           p10             345\n",
       "c4         NTC             200\n",
       "           p0              345\n",
       "           p1              345\n",
       "           p2              345\n",
       "           p3              345\n",
       "           p4              345\n",
       "           p5              345\n",
       "           p6              345\n",
       "           p7              345\n",
       "           p8              345\n",
       "           p9              345\n",
       "           p10             345\n",
       "dtype: int64"
      ]
     },
     "execution_count": 52,
     "metadata": {},
     "output_type": "execute_result"
    }
   ],
   "source": [
    "adata.obs.groupby([\"cell_type\", \"perturbation\"], observed=True).size()"
   ]
  },
  {
   "cell_type": "code",
   "execution_count": null,
   "metadata": {},
   "outputs": [],
   "source": [
    "import scipy.sparse as sp\n",
    "# If .X is dense or some other sparse type, convert to CSR\n",
    "if not sp.isspmatrix_csr(adata.X):\n",
    "    adata.X = sp.csr_matrix(adata.X)"
   ]
  },
  {
   "cell_type": "code",
   "execution_count": 76,
   "metadata": {},
   "outputs": [],
   "source": [
    "sc.pp.normalize_total(adata)\n",
    "sc.pp.log1p(adata)"
   ]
  },
  {
   "cell_type": "code",
   "execution_count": 77,
   "metadata": {},
   "outputs": [
    {
     "name": "stderr",
     "output_type": "stream",
     "text": [
      "/gpfs/home/asun/miniforge3/envs/perturbbench/lib/python3.11/site-packages/sklearn/manifold/_spectral_embedding.py:328: UserWarning: Graph is not fully connected, spectral embedding may not work as expected.\n",
      "  warnings.warn(\n"
     ]
    },
    {
     "data": {
      "image/png": "[encoded data removed]",
      "text/plain": [
       "<Figure size 1455.6x480 with 2 Axes>"
      ]
     },
     "metadata": {},
     "output_type": "display_data"
    }
   ],
   "source": [
    "sc.pp.pca(adata, n_comps = 50)\n",
    "sc.pp.neighbors(adata)\n",
    "sc.tl.umap(adata)\n",
    "sc.pl.umap(adata, color = [\"cell_type\", \"perturbation\"], title = [\"Cell Type\", \"Perturbation\"])"
   ]
  },
  {
   "cell_type": "code",
   "execution_count": 78,
   "metadata": {},
   "outputs": [],
   "source": [
    "import scipy.sparse as sp\n",
    "# If .X is dense or some other sparse type, convert to CSR\n",
    "if not sp.isspmatrix_csr(adata.X):\n",
    "    adata.X = sp.csr_matrix(adata.X)"
   ]
  },
  {
   "cell_type": "code",
   "execution_count": 49,
   "metadata": {},
   "outputs": [
    {
     "data": {
      "text/plain": [
       "scipy.sparse._csr.csr_matrix"
      ]
     },
     "execution_count": 49,
     "metadata": {},
     "output_type": "execute_result"
    }
   ],
   "source": [
    "type(adata.X)\n"
   ]
  },
  {
   "cell_type": "code",
   "execution_count": 79,
   "metadata": {},
   "outputs": [
    {
     "name": "stdout",
     "output_type": "stream",
     "text": [
      "[[ 7.951764  11.439913  10.259533   8.838936   9.074026 ]\n",
      " [ 9.699642  12.552691   8.748628   9.583623  10.438718 ]\n",
      " [ 7.728514  11.317629  10.140317   7.5226045 11.025462 ]\n",
      " [ 9.606927  12.543179  10.51557    9.496684  10.510451 ]\n",
      " [11.047664  11.427505   9.386991   7.2398376  9.458924 ]]\n"
     ]
    }
   ],
   "source": [
    "print(adata.X[:5, :5].toarray())"
   ]
  },
  {
   "cell_type": "code",
   "execution_count": 51,
   "metadata": {},
   "outputs": [],
   "source": [
    "adata.write_h5ad(\"simulated_data_2.h5ad\")\n"
   ]
  }
 ],
 "metadata": {
  "kernelspec": {
   "display_name": "perturbbench",
   "language": "python",
   "name": "python3"
  },
  "language_info": {
   "codemirror_mode": {
    "name": "ipython",
    "version": 3
   },
   "file_extension": ".py",
   "mimetype": "text/x-python",
   "name": "python",
   "nbconvert_exporter": "python",
   "pygments_lexer": "ipython3",
   "version": "3.11.13"
  }
 },
 "nbformat": 4,
 "nbformat_minor": 2
}
