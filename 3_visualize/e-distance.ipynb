{
 "cells": [
  {
   "cell_type": "code",
   "execution_count": 1,
   "id": "ec817255-23a5-493e-9447-ae8b81cf68b6",
   "metadata": {
    "tags": []
   },
   "outputs": [],
   "source": [
    "!pip install scanpy scikit-misc --quiet"
   ]
  },
  {
   "cell_type": "code",
   "execution_count": 59,
   "id": "8f571eb1",
   "metadata": {
    "ExecuteTime": {
     "end_time": "2022-09-29T15:27:33.311883Z",
     "start_time": "2022-09-29T15:27:31.360087Z"
    },
    "tags": []
   },
   "outputs": [
    {
     "name": "stdout",
     "output_type": "stream",
     "text": [
      "Scanpy version: 1.11.4\n"
     ]
    },
    {
     "data": {
      "text/html": [
       "<style>.container { width:95% !important; }</style>"
      ],
      "text/plain": [
       "<IPython.core.display.HTML object>"
      ]
     },
     "metadata": {},
     "output_type": "display_data"
    }
   ],
   "source": [
    "import scanpy as sc\n",
    "import matplotlib.pyplot as plt\n",
    "import anndata as ad\n",
    "import pandas as pd\n",
    "import numpy as np\n",
    "import seaborn as sns\n",
    "print('Scanpy version:', sc.__version__)\n",
    "\n",
    "# Jupyter stuff\n",
    "from tqdm.notebook import tqdm\n",
    "from IPython.display import clear_output\n",
    "from IPython.display import display, HTML\n",
    "display(HTML(\"<style>.container { width:95% !important; }</style>\"))\n",
    "%matplotlib inline"
   ]
  },
  {
   "cell_type": "code",
   "execution_count": 3,
   "id": "39f0183b",
   "metadata": {
    "ExecuteTime": {
     "end_time": "2022-09-29T16:04:20.714236Z",
     "start_time": "2022-09-29T16:04:10.922291Z"
    },
    "tags": []
   },
   "outputs": [],
   "source": [
    "# !pip install scperturb --upgrade\n",
    "# from scperturb import *"
   ]
  },
  {
   "cell_type": "code",
   "execution_count": 4,
   "id": "e5b25320",
   "metadata": {
    "tags": []
   },
   "outputs": [],
   "source": [
    "import sys\n",
    "sys.path.append(\"..\")\n",
    "%reload_ext autoreload\n",
    "%autoreload 2\n",
    "from scperturb import *"
   ]
  },
  {
   "cell_type": "markdown",
   "id": "2ad480a6",
   "metadata": {},
   "source": [
    "# Prepare the data"
   ]
  },
  {
   "cell_type": "code",
   "execution_count": 5,
   "id": "3a8eee9e",
   "metadata": {
    "ExecuteTime": {
     "end_time": "2022-09-29T16:04:41.613962Z",
     "start_time": "2022-09-29T16:04:41.069237Z"
    },
    "tags": []
   },
   "outputs": [
    {
     "data": {
      "text/plain": [
       "AnnData object with n_obs × n_vars = 39194 × 25904\n",
       "    obs: 'sample', 'cell_line', 'perturbation', 'perturbation_2', 'tissue_type', 'cancer', 'celltype', 'disease', 'organism', 'perturbation_type', 'perturbation_type_2', 'ncounts', 'ngenes', 'percent_mito', 'percent_ribo', 'nperts'\n",
       "    var: 'ensembl_id', 'ncounts', 'ncells'"
      ]
     },
     "execution_count": 5,
     "metadata": {},
     "output_type": "execute_result"
    }
   ],
   "source": [
    "# !wget https://zenodo.org/record/7041849/files/DatlingerBock2021.h5ad\n",
    "file = '/scratch/peidli/scPerturb/DatlingerBock2021.h5ad'\n",
    "adata = sc.read_h5ad(file)\n",
    "adata"
   ]
  },
  {
   "cell_type": "code",
   "execution_count": 24,
   "id": "96fd4425",
   "metadata": {},
   "outputs": [],
   "source": [
    "adata_real = sc.read_h5ad(\"/gpfs/home/asun/jin_lab/perturbench/raw_data/boli_ctx_scprocess_no+ctrl.h5ad\")"
   ]
  },
  {
   "cell_type": "code",
   "execution_count": 25,
   "id": "94955c93",
   "metadata": {},
   "outputs": [],
   "source": [
    "adata_real = adata_real[\n",
    "    (adata_real.obs['cell_type'] == 'L6_CT_CTX') & \n",
    "    (adata_real.obs['condition'].isin(['ctrl', 'SATB2', 'TBR1']))\n",
    "].copy()"
   ]
  },
  {
   "cell_type": "code",
   "execution_count": 44,
   "id": "faa7da5e",
   "metadata": {},
   "outputs": [],
   "source": [
    "adata_pred = sc.read_h5ad(\"/gpfs/home/asun/jin_lab/perturbench/2_predict/logs/predict/runs/2025-10-08_11-43-57_boli_linear_baseline/predictions/prediction_chunk_0.h5ad\")"
   ]
  },
  {
   "cell_type": "code",
   "execution_count": 45,
   "id": "cbb8b12c",
   "metadata": {},
   "outputs": [],
   "source": [
    "adata_pred = adata_pred[\n",
    "    (adata_pred.obs['cell_type'] == 'L6_CT_CTX') & \n",
    "    (adata_pred.obs['condition'].isin(['SATB2', 'TBR1']))\n",
    "].copy()"
   ]
  },
  {
   "cell_type": "code",
   "execution_count": 42,
   "id": "d5e9ecc2",
   "metadata": {},
   "outputs": [
    {
     "data": {
      "text/plain": [
       "condition\n",
       "ctrl          689\n",
       "TBR1_real     559\n",
       "SATB2_real    551\n",
       "Name: count, dtype: int64"
      ]
     },
     "execution_count": 42,
     "metadata": {},
     "output_type": "execute_result"
    }
   ],
   "source": [
    "adata_real.obs['condition'].value_counts()"
   ]
  },
  {
   "cell_type": "code",
   "execution_count": 46,
   "id": "3d198997",
   "metadata": {},
   "outputs": [
    {
     "data": {
      "text/plain": [
       "condition\n",
       "SATB2    173\n",
       "TBR1     173\n",
       "Name: count, dtype: int64"
      ]
     },
     "execution_count": 46,
     "metadata": {},
     "output_type": "execute_result"
    }
   ],
   "source": [
    "adata_pred.obs['condition'].value_counts()"
   ]
  },
  {
   "cell_type": "code",
   "execution_count": 31,
   "id": "68add554",
   "metadata": {},
   "outputs": [],
   "source": [
    "adata_real.obs['condition'] = np.where(adata_real.obs['condition'] == \"TBR1\", \"TBR1_real\", adata_real.obs['condition'])\n",
    "adata_real.obs['condition'] = np.where(adata_real.obs['condition'] == \"SATB2\", \"SATB2_real\", adata_real.obs['condition'])"
   ]
  },
  {
   "cell_type": "code",
   "execution_count": 47,
   "id": "87ba4843",
   "metadata": {},
   "outputs": [],
   "source": [
    "adata_pred.obs['condition'] = np.where(adata_pred.obs['condition'] == \"TBR1\", \"TBR1_pred\", adata_pred.obs['condition'])\n",
    "adata_pred.obs['condition'] = np.where(adata_pred.obs['condition'] == \"SATB2\", \"SATB2_pred\", adata_pred.obs['condition'])"
   ]
  },
  {
   "cell_type": "code",
   "execution_count": 48,
   "id": "7feb1e5e",
   "metadata": {},
   "outputs": [],
   "source": [
    "adata = ad.concat(\n",
    "    [adata_real, adata_pred],\n",
    "    label=\"source\",                 \n",
    "    keys=[\"real\", \"pred\"],          \n",
    "    index_unique=\"-\",               \n",
    ")"
   ]
  },
  {
   "cell_type": "code",
   "execution_count": 14,
   "id": "34e6b76b",
   "metadata": {},
   "outputs": [
    {
     "data": {
      "text/html": [
       "<div>\n",
       "<style scoped>\n",
       "    .dataframe tbody tr th:only-of-type {\n",
       "        vertical-align: middle;\n",
       "    }\n",
       "\n",
       "    .dataframe tbody tr th {\n",
       "        vertical-align: top;\n",
       "    }\n",
       "\n",
       "    .dataframe thead th {\n",
       "        text-align: right;\n",
       "    }\n",
       "</style>\n",
       "<table border=\"1\" class=\"dataframe\">\n",
       "  <thead>\n",
       "    <tr style=\"text-align: right;\">\n",
       "      <th></th>\n",
       "      <th>condition</th>\n",
       "      <th>cell_type</th>\n",
       "      <th>source</th>\n",
       "    </tr>\n",
       "  </thead>\n",
       "  <tbody>\n",
       "    <tr>\n",
       "      <th>batch1_samp1_chan1_AAACCTGAGACAAAGG-1-real</th>\n",
       "      <td>BCL11B</td>\n",
       "      <td>L5_PT_CTX</td>\n",
       "      <td>real</td>\n",
       "    </tr>\n",
       "    <tr>\n",
       "      <th>batch1_samp1_chan1_AAACCTGAGGCCGAAT-1-real</th>\n",
       "      <td>BCL11B</td>\n",
       "      <td>L6b_CTX</td>\n",
       "      <td>real</td>\n",
       "    </tr>\n",
       "    <tr>\n",
       "      <th>batch1_samp1_chan1_AAACCTGCACGGTAAG-1-real</th>\n",
       "      <td>XPO7</td>\n",
       "      <td>L5_PT_CTX</td>\n",
       "      <td>real</td>\n",
       "    </tr>\n",
       "    <tr>\n",
       "      <th>batch1_samp1_chan1_AAACCTGCACTATCTT-1-real</th>\n",
       "      <td>XPO7</td>\n",
       "      <td>L6b_CTX</td>\n",
       "      <td>real</td>\n",
       "    </tr>\n",
       "    <tr>\n",
       "      <th>batch1_samp1_chan1_AAACCTGCAGGGCATA-1-real</th>\n",
       "      <td>TRIO</td>\n",
       "      <td>L6_CT_CTX</td>\n",
       "      <td>real</td>\n",
       "    </tr>\n",
       "    <tr>\n",
       "      <th>...</th>\n",
       "      <td>...</td>\n",
       "      <td>...</td>\n",
       "      <td>...</td>\n",
       "    </tr>\n",
       "    <tr>\n",
       "      <th>1898-pred</th>\n",
       "      <td>HERC1</td>\n",
       "      <td>L6_CT_CTX</td>\n",
       "      <td>pred</td>\n",
       "    </tr>\n",
       "    <tr>\n",
       "      <th>1899-pred</th>\n",
       "      <td>HERC1</td>\n",
       "      <td>L6_CT_CTX</td>\n",
       "      <td>pred</td>\n",
       "    </tr>\n",
       "    <tr>\n",
       "      <th>1900-pred</th>\n",
       "      <td>HERC1</td>\n",
       "      <td>L6_CT_CTX</td>\n",
       "      <td>pred</td>\n",
       "    </tr>\n",
       "    <tr>\n",
       "      <th>1901-pred</th>\n",
       "      <td>HERC1</td>\n",
       "      <td>L6_CT_CTX</td>\n",
       "      <td>pred</td>\n",
       "    </tr>\n",
       "    <tr>\n",
       "      <th>1902-pred</th>\n",
       "      <td>HERC1</td>\n",
       "      <td>L6_CT_CTX</td>\n",
       "      <td>pred</td>\n",
       "    </tr>\n",
       "  </tbody>\n",
       "</table>\n",
       "<p>23603 rows × 3 columns</p>\n",
       "</div>"
      ],
      "text/plain": [
       "                                           condition  cell_type source\n",
       "batch1_samp1_chan1_AAACCTGAGACAAAGG-1-real    BCL11B  L5_PT_CTX   real\n",
       "batch1_samp1_chan1_AAACCTGAGGCCGAAT-1-real    BCL11B    L6b_CTX   real\n",
       "batch1_samp1_chan1_AAACCTGCACGGTAAG-1-real      XPO7  L5_PT_CTX   real\n",
       "batch1_samp1_chan1_AAACCTGCACTATCTT-1-real      XPO7    L6b_CTX   real\n",
       "batch1_samp1_chan1_AAACCTGCAGGGCATA-1-real      TRIO  L6_CT_CTX   real\n",
       "...                                              ...        ...    ...\n",
       "1898-pred                                      HERC1  L6_CT_CTX   pred\n",
       "1899-pred                                      HERC1  L6_CT_CTX   pred\n",
       "1900-pred                                      HERC1  L6_CT_CTX   pred\n",
       "1901-pred                                      HERC1  L6_CT_CTX   pred\n",
       "1902-pred                                      HERC1  L6_CT_CTX   pred\n",
       "\n",
       "[23603 rows x 3 columns]"
      ]
     },
     "execution_count": 14,
     "metadata": {},
     "output_type": "execute_result"
    }
   ],
   "source": [
    "adata.obs"
   ]
  },
  {
   "cell_type": "code",
   "execution_count": 34,
   "id": "4242ccb5",
   "metadata": {},
   "outputs": [],
   "source": [
    "import scperturb as sp\n"
   ]
  },
  {
   "cell_type": "code",
   "execution_count": 49,
   "id": "9fc66db2",
   "metadata": {},
   "outputs": [],
   "source": [
    "adata_sub = sp.equal_subsampling(adata, 'condition', N_min=100)"
   ]
  },
  {
   "cell_type": "code",
   "execution_count": 50,
   "id": "ce6fd9fa",
   "metadata": {},
   "outputs": [
    {
     "data": {
      "text/plain": [
       "condition\n",
       "ctrl          173\n",
       "TBR1_real     173\n",
       "SATB2_real    173\n",
       "TBR1_pred     173\n",
       "SATB2_pred    173\n",
       "Name: count, dtype: int64"
      ]
     },
     "execution_count": 50,
     "metadata": {},
     "output_type": "execute_result"
    }
   ],
   "source": [
    "adata_sub.obs['condition'].value_counts()"
   ]
  },
  {
   "cell_type": "code",
   "execution_count": 37,
   "id": "527129ea",
   "metadata": {},
   "outputs": [
    {
     "data": {
      "text/plain": [
       "AnnData object with n_obs × n_vars = 2422 × 5000\n",
       "    obs: 'condition', 'cell_type', 'source'"
      ]
     },
     "execution_count": 37,
     "metadata": {},
     "output_type": "execute_result"
    }
   ],
   "source": [
    "adata_sub"
   ]
  },
  {
   "cell_type": "code",
   "execution_count": 51,
   "id": "2b2d0c1f",
   "metadata": {},
   "outputs": [],
   "source": [
    "sc.pp.pca(adata_sub)\n",
    "sc.pp.neighbors(adata_sub)\n",
    "\n",
    "adata_sub.uns['processed'] = True"
   ]
  },
  {
   "cell_type": "code",
   "execution_count": 52,
   "id": "3ae840d6",
   "metadata": {},
   "outputs": [
    {
     "data": {
      "text/plain": [
       "AnnData object with n_obs × n_vars = 865 × 5000\n",
       "    obs: 'condition', 'cell_type', 'source'\n",
       "    uns: 'pca', 'neighbors', 'processed'\n",
       "    obsm: 'X_pca'\n",
       "    varm: 'PCs'\n",
       "    obsp: 'distances', 'connectivities'"
      ]
     },
     "execution_count": 52,
     "metadata": {},
     "output_type": "execute_result"
    }
   ],
   "source": [
    "adata_sub"
   ]
  },
  {
   "cell_type": "code",
   "execution_count": 40,
   "id": "6e5c2b00",
   "metadata": {},
   "outputs": [
    {
     "name": "stderr",
     "output_type": "stream",
     "text": [
      "100%|██████████| 105/105 [00:00<00:00, 420.16it/s]\n"
     ]
    }
   ],
   "source": [
    "estats = sp.edist(adata_sub, obs_key='condition', obsm_key='X_pca', dist='sqeuclidean')"
   ]
  },
  {
   "cell_type": "code",
   "execution_count": 53,
   "id": "a934e734",
   "metadata": {},
   "outputs": [
    {
     "name": "stderr",
     "output_type": "stream",
     "text": [
      "100%|██████████| 1000/1000 [00:25<00:00, 39.39it/s]\n",
      "/gpfs/home/asun/miniforge3/envs/perturbench/lib/python3.11/site-packages/statsmodels/stats/multitest.py:186: RuntimeWarning: divide by zero encountered in log1p\n",
      "  np.log1p(-pvals))\n"
     ]
    }
   ],
   "source": [
    "df = sp.etest(adata_sub, obs_key='condition', obsm_key='X_pca', dist='sqeuclidean', control='ctrl', alpha=0.05, runs=1000, n_jobs=-1)"
   ]
  },
  {
   "cell_type": "code",
   "execution_count": 56,
   "id": "eeca6f60",
   "metadata": {},
   "outputs": [
    {
     "name": "stderr",
     "output_type": "stream",
     "text": [
      "/tmp/ipykernel_25163/881616230.py:1: FutureWarning: Setting an item of incompatible dtype is deprecated and will raise an error in a future version of pandas. Value 'Control' has dtype incompatible with bool, please explicitly cast to a compatible dtype first.\n",
      "  df.loc[df.index=='ctrl', 'significant_adj'] = 'Control'\n"
     ]
    }
   ],
   "source": [
    "df.loc[df.index=='ctrl', 'significant_adj'] = 'Control'\n",
    "df['neglog10_pvalue_adj'] = -np.log10(df['pvalue_adj'])"
   ]
  },
  {
   "cell_type": "code",
   "execution_count": 55,
   "id": "aaba6db8",
   "metadata": {},
   "outputs": [
    {
     "data": {
      "text/html": [
       "<div>\n",
       "<style scoped>\n",
       "    .dataframe tbody tr th:only-of-type {\n",
       "        vertical-align: middle;\n",
       "    }\n",
       "\n",
       "    .dataframe tbody tr th {\n",
       "        vertical-align: top;\n",
       "    }\n",
       "\n",
       "    .dataframe thead th {\n",
       "        text-align: right;\n",
       "    }\n",
       "</style>\n",
       "<table border=\"1\" class=\"dataframe\">\n",
       "  <thead>\n",
       "    <tr style=\"text-align: right;\">\n",
       "      <th></th>\n",
       "      <th>edist</th>\n",
       "      <th>pvalue</th>\n",
       "      <th>significant</th>\n",
       "      <th>pvalue_adj</th>\n",
       "      <th>significant_adj</th>\n",
       "    </tr>\n",
       "  </thead>\n",
       "  <tbody>\n",
       "    <tr>\n",
       "      <th>SATB2_pred</th>\n",
       "      <td>70.464321</td>\n",
       "      <td>0.001</td>\n",
       "      <td>True</td>\n",
       "      <td>0.004990</td>\n",
       "      <td>True</td>\n",
       "    </tr>\n",
       "    <tr>\n",
       "      <th>SATB2_real</th>\n",
       "      <td>1.899645</td>\n",
       "      <td>0.008</td>\n",
       "      <td>True</td>\n",
       "      <td>0.015936</td>\n",
       "      <td>True</td>\n",
       "    </tr>\n",
       "    <tr>\n",
       "      <th>TBR1_pred</th>\n",
       "      <td>71.214740</td>\n",
       "      <td>0.001</td>\n",
       "      <td>True</td>\n",
       "      <td>0.004990</td>\n",
       "      <td>True</td>\n",
       "    </tr>\n",
       "    <tr>\n",
       "      <th>TBR1_real</th>\n",
       "      <td>41.701660</td>\n",
       "      <td>0.001</td>\n",
       "      <td>True</td>\n",
       "      <td>0.004990</td>\n",
       "      <td>True</td>\n",
       "    </tr>\n",
       "    <tr>\n",
       "      <th>ctrl</th>\n",
       "      <td>0.000000</td>\n",
       "      <td>1.000</td>\n",
       "      <td>False</td>\n",
       "      <td>1.000000</td>\n",
       "      <td>False</td>\n",
       "    </tr>\n",
       "  </tbody>\n",
       "</table>\n",
       "</div>"
      ],
      "text/plain": [
       "                edist  pvalue  significant  pvalue_adj  significant_adj\n",
       "SATB2_pred  70.464321   0.001         True    0.004990             True\n",
       "SATB2_real   1.899645   0.008         True    0.015936             True\n",
       "TBR1_pred   71.214740   0.001         True    0.004990             True\n",
       "TBR1_real   41.701660   0.001         True    0.004990             True\n",
       "ctrl         0.000000   1.000        False    1.000000            False"
      ]
     },
     "execution_count": 55,
     "metadata": {},
     "output_type": "execute_result"
    }
   ],
   "source": [
    "df"
   ]
  },
  {
   "cell_type": "code",
   "execution_count": 68,
   "id": "58f71e0d",
   "metadata": {},
   "outputs": [
    {
     "data": {
      "image/png": "[encoded data removed]",
      "text/plain": [
       "<Figure size 640x480 with 1 Axes>"
      ]
     },
     "metadata": {},
     "output_type": "display_data"
    }
   ],
   "source": [
    "from adjustText import adjust_text\n",
    "\n",
    "with sns.axes_style('whitegrid'):\n",
    "    ax = sns.scatterplot(\n",
    "        data=df,\n",
    "        y='neglog10_pvalue_adj',\n",
    "        x='edist',\n",
    "        hue='significant_adj',\n",
    "        palette={True: 'tab:green', False: 'tab:red', 'Control': 'tab:orange'},\n",
    "        s=30\n",
    "    )\n",
    "\n",
    "texts = []\n",
    "for idx, row in df.iterrows():\n",
    "    texts.append(\n",
    "        ax.text(\n",
    "            row['edist'], \n",
    "            row['neglog10_pvalue_adj'], \n",
    "            str(idx),              \n",
    "            fontsize=10,\n",
    "            bbox=dict(boxstyle='round,pad=0.3', facecolor='white', edgecolor='none', alpha=0.7)  # 배경 추가\n",
    "        )\n",
    "    )\n",
    "\n",
    "adjust_text(\n",
    "    texts, \n",
    "    ax=ax, \n",
    "    arrowprops=dict(arrowstyle=\"->\", color=\"gray\", lw=0.5, alpha=0.7),\n",
    "    expand_text=(1, 1),         \n",
    "    force_text=1.0,            \n",
    "    force_points=0.5,          \n",
    "    lim=2000,                  \n",
    "    avoid_self=True,\n",
    "    autoalign='xy',            \n",
    "    ha='center',               \n",
    "    va='center'                \n",
    ")\n",
    "\n",
    "plt.title('E-test Linear Additive Model')\n",
    "plt.xlabel('E-distance from control')\n",
    "plt.ylabel('E-test neg log10 of adjusted p-value')\n",
    "plt.tight_layout()\n",
    "plt.show()"
   ]
  },
  {
   "cell_type": "code",
   "execution_count": 41,
   "id": "0671fba6",
   "metadata": {},
   "outputs": [
    {
     "data": {
      "text/html": [
       "<div>\n",
       "<style scoped>\n",
       "    .dataframe tbody tr th:only-of-type {\n",
       "        vertical-align: middle;\n",
       "    }\n",
       "\n",
       "    .dataframe tbody tr th {\n",
       "        vertical-align: top;\n",
       "    }\n",
       "\n",
       "    .dataframe thead th {\n",
       "        text-align: right;\n",
       "    }\n",
       "</style>\n",
       "<table border=\"1\" class=\"dataframe\">\n",
       "  <thead>\n",
       "    <tr style=\"text-align: right;\">\n",
       "      <th>condition</th>\n",
       "      <th>ctrl</th>\n",
       "      <th>TBR1_real</th>\n",
       "      <th>SATB2_real</th>\n",
       "      <th>BCL11B</th>\n",
       "      <th>XPO7</th>\n",
       "      <th>TRIO</th>\n",
       "      <th>ANK3</th>\n",
       "      <th>TBR1_pred</th>\n",
       "      <th>SATB2_pred</th>\n",
       "      <th>CUL1</th>\n",
       "      <th>RB1CC1</th>\n",
       "      <th>DAB1</th>\n",
       "      <th>CX3CL1</th>\n",
       "      <th>HERC1</th>\n",
       "    </tr>\n",
       "    <tr>\n",
       "      <th>condition</th>\n",
       "      <th></th>\n",
       "      <th></th>\n",
       "      <th></th>\n",
       "      <th></th>\n",
       "      <th></th>\n",
       "      <th></th>\n",
       "      <th></th>\n",
       "      <th></th>\n",
       "      <th></th>\n",
       "      <th></th>\n",
       "      <th></th>\n",
       "      <th></th>\n",
       "      <th></th>\n",
       "      <th></th>\n",
       "    </tr>\n",
       "  </thead>\n",
       "  <tbody>\n",
       "    <tr>\n",
       "      <th>ctrl</th>\n",
       "      <td>0.000000</td>\n",
       "      <td>46.490069</td>\n",
       "      <td>1.571149</td>\n",
       "      <td>60.797348</td>\n",
       "      <td>69.156288</td>\n",
       "      <td>60.952423</td>\n",
       "      <td>65.258979</td>\n",
       "      <td>68.794202</td>\n",
       "      <td>67.136924</td>\n",
       "      <td>73.920503</td>\n",
       "      <td>64.107659</td>\n",
       "      <td>59.046503</td>\n",
       "      <td>64.463005</td>\n",
       "      <td>63.109431</td>\n",
       "    </tr>\n",
       "    <tr>\n",
       "      <th>TBR1_real</th>\n",
       "      <td>46.490069</td>\n",
       "      <td>0.000000</td>\n",
       "      <td>45.729692</td>\n",
       "      <td>102.205199</td>\n",
       "      <td>109.145311</td>\n",
       "      <td>100.373285</td>\n",
       "      <td>105.102122</td>\n",
       "      <td>87.274573</td>\n",
       "      <td>106.725244</td>\n",
       "      <td>114.530111</td>\n",
       "      <td>103.507439</td>\n",
       "      <td>101.898975</td>\n",
       "      <td>107.489100</td>\n",
       "      <td>107.553437</td>\n",
       "    </tr>\n",
       "    <tr>\n",
       "      <th>SATB2_real</th>\n",
       "      <td>1.571149</td>\n",
       "      <td>45.729692</td>\n",
       "      <td>0.000000</td>\n",
       "      <td>66.498508</td>\n",
       "      <td>72.940545</td>\n",
       "      <td>65.175732</td>\n",
       "      <td>68.499980</td>\n",
       "      <td>71.896978</td>\n",
       "      <td>70.450008</td>\n",
       "      <td>78.644715</td>\n",
       "      <td>67.460954</td>\n",
       "      <td>63.364243</td>\n",
       "      <td>67.656206</td>\n",
       "      <td>66.422604</td>\n",
       "    </tr>\n",
       "    <tr>\n",
       "      <th>BCL11B</th>\n",
       "      <td>60.797348</td>\n",
       "      <td>102.205199</td>\n",
       "      <td>66.498508</td>\n",
       "      <td>0.000000</td>\n",
       "      <td>1.590286</td>\n",
       "      <td>0.988033</td>\n",
       "      <td>1.541176</td>\n",
       "      <td>4.334443</td>\n",
       "      <td>1.729550</td>\n",
       "      <td>6.425950</td>\n",
       "      <td>2.422047</td>\n",
       "      <td>0.644035</td>\n",
       "      <td>1.868454</td>\n",
       "      <td>2.079405</td>\n",
       "    </tr>\n",
       "    <tr>\n",
       "      <th>XPO7</th>\n",
       "      <td>69.156288</td>\n",
       "      <td>109.145311</td>\n",
       "      <td>72.940545</td>\n",
       "      <td>1.590286</td>\n",
       "      <td>0.000000</td>\n",
       "      <td>0.676240</td>\n",
       "      <td>-0.097088</td>\n",
       "      <td>3.812964</td>\n",
       "      <td>0.318206</td>\n",
       "      <td>4.806199</td>\n",
       "      <td>1.315212</td>\n",
       "      <td>0.295579</td>\n",
       "      <td>-0.095197</td>\n",
       "      <td>0.340070</td>\n",
       "    </tr>\n",
       "    <tr>\n",
       "      <th>TRIO</th>\n",
       "      <td>60.952423</td>\n",
       "      <td>100.373285</td>\n",
       "      <td>65.175732</td>\n",
       "      <td>0.988033</td>\n",
       "      <td>0.676240</td>\n",
       "      <td>0.000000</td>\n",
       "      <td>0.299917</td>\n",
       "      <td>3.045191</td>\n",
       "      <td>0.849920</td>\n",
       "      <td>7.035060</td>\n",
       "      <td>1.116280</td>\n",
       "      <td>-0.055928</td>\n",
       "      <td>0.474367</td>\n",
       "      <td>1.150591</td>\n",
       "    </tr>\n",
       "    <tr>\n",
       "      <th>ANK3</th>\n",
       "      <td>65.258979</td>\n",
       "      <td>105.102122</td>\n",
       "      <td>68.499980</td>\n",
       "      <td>1.541176</td>\n",
       "      <td>-0.097088</td>\n",
       "      <td>0.299917</td>\n",
       "      <td>0.000000</td>\n",
       "      <td>3.351542</td>\n",
       "      <td>-0.000427</td>\n",
       "      <td>6.006686</td>\n",
       "      <td>0.300558</td>\n",
       "      <td>-0.101294</td>\n",
       "      <td>-0.180701</td>\n",
       "      <td>-0.070040</td>\n",
       "    </tr>\n",
       "    <tr>\n",
       "      <th>TBR1_pred</th>\n",
       "      <td>68.794202</td>\n",
       "      <td>87.274573</td>\n",
       "      <td>71.896978</td>\n",
       "      <td>4.334443</td>\n",
       "      <td>3.812964</td>\n",
       "      <td>3.045191</td>\n",
       "      <td>3.351542</td>\n",
       "      <td>0.000000</td>\n",
       "      <td>3.317558</td>\n",
       "      <td>9.087839</td>\n",
       "      <td>3.750959</td>\n",
       "      <td>3.744122</td>\n",
       "      <td>4.179721</td>\n",
       "      <td>4.645768</td>\n",
       "    </tr>\n",
       "    <tr>\n",
       "      <th>SATB2_pred</th>\n",
       "      <td>67.136924</td>\n",
       "      <td>106.725244</td>\n",
       "      <td>70.450008</td>\n",
       "      <td>1.729550</td>\n",
       "      <td>0.318206</td>\n",
       "      <td>0.849920</td>\n",
       "      <td>-0.000427</td>\n",
       "      <td>3.317558</td>\n",
       "      <td>0.000000</td>\n",
       "      <td>5.749104</td>\n",
       "      <td>0.505019</td>\n",
       "      <td>0.361671</td>\n",
       "      <td>0.583202</td>\n",
       "      <td>0.567201</td>\n",
       "    </tr>\n",
       "    <tr>\n",
       "      <th>CUL1</th>\n",
       "      <td>73.920503</td>\n",
       "      <td>114.530111</td>\n",
       "      <td>78.644715</td>\n",
       "      <td>6.425950</td>\n",
       "      <td>4.806199</td>\n",
       "      <td>7.035060</td>\n",
       "      <td>6.006686</td>\n",
       "      <td>9.087839</td>\n",
       "      <td>5.749104</td>\n",
       "      <td>0.000000</td>\n",
       "      <td>7.966427</td>\n",
       "      <td>5.768819</td>\n",
       "      <td>5.166615</td>\n",
       "      <td>5.471063</td>\n",
       "    </tr>\n",
       "    <tr>\n",
       "      <th>RB1CC1</th>\n",
       "      <td>64.107659</td>\n",
       "      <td>103.507439</td>\n",
       "      <td>67.460954</td>\n",
       "      <td>2.422047</td>\n",
       "      <td>1.315212</td>\n",
       "      <td>1.116280</td>\n",
       "      <td>0.300558</td>\n",
       "      <td>3.750959</td>\n",
       "      <td>0.505019</td>\n",
       "      <td>7.966427</td>\n",
       "      <td>0.000000</td>\n",
       "      <td>0.522131</td>\n",
       "      <td>1.187555</td>\n",
       "      <td>0.711000</td>\n",
       "    </tr>\n",
       "    <tr>\n",
       "      <th>DAB1</th>\n",
       "      <td>59.046503</td>\n",
       "      <td>101.898975</td>\n",
       "      <td>63.364243</td>\n",
       "      <td>0.644035</td>\n",
       "      <td>0.295579</td>\n",
       "      <td>-0.055928</td>\n",
       "      <td>-0.101294</td>\n",
       "      <td>3.744122</td>\n",
       "      <td>0.361671</td>\n",
       "      <td>5.768819</td>\n",
       "      <td>0.522131</td>\n",
       "      <td>0.000000</td>\n",
       "      <td>-0.029607</td>\n",
       "      <td>0.100260</td>\n",
       "    </tr>\n",
       "    <tr>\n",
       "      <th>CX3CL1</th>\n",
       "      <td>64.463005</td>\n",
       "      <td>107.489100</td>\n",
       "      <td>67.656206</td>\n",
       "      <td>1.868454</td>\n",
       "      <td>-0.095197</td>\n",
       "      <td>0.474367</td>\n",
       "      <td>-0.180701</td>\n",
       "      <td>4.179721</td>\n",
       "      <td>0.583202</td>\n",
       "      <td>5.166615</td>\n",
       "      <td>1.187555</td>\n",
       "      <td>-0.029607</td>\n",
       "      <td>0.000000</td>\n",
       "      <td>-0.240824</td>\n",
       "    </tr>\n",
       "    <tr>\n",
       "      <th>HERC1</th>\n",
       "      <td>63.109431</td>\n",
       "      <td>107.553437</td>\n",
       "      <td>66.422604</td>\n",
       "      <td>2.079405</td>\n",
       "      <td>0.340070</td>\n",
       "      <td>1.150591</td>\n",
       "      <td>-0.070040</td>\n",
       "      <td>4.645768</td>\n",
       "      <td>0.567201</td>\n",
       "      <td>5.471063</td>\n",
       "      <td>0.711000</td>\n",
       "      <td>0.100260</td>\n",
       "      <td>-0.240824</td>\n",
       "      <td>0.000000</td>\n",
       "    </tr>\n",
       "  </tbody>\n",
       "</table>\n",
       "</div>"
      ],
      "text/plain": [
       "condition        ctrl   TBR1_real  SATB2_real      BCL11B        XPO7  \\\n",
       "condition                                                               \n",
       "ctrl         0.000000   46.490069    1.571149   60.797348   69.156288   \n",
       "TBR1_real   46.490069    0.000000   45.729692  102.205199  109.145311   \n",
       "SATB2_real   1.571149   45.729692    0.000000   66.498508   72.940545   \n",
       "BCL11B      60.797348  102.205199   66.498508    0.000000    1.590286   \n",
       "XPO7        69.156288  109.145311   72.940545    1.590286    0.000000   \n",
       "TRIO        60.952423  100.373285   65.175732    0.988033    0.676240   \n",
       "ANK3        65.258979  105.102122   68.499980    1.541176   -0.097088   \n",
       "TBR1_pred   68.794202   87.274573   71.896978    4.334443    3.812964   \n",
       "SATB2_pred  67.136924  106.725244   70.450008    1.729550    0.318206   \n",
       "CUL1        73.920503  114.530111   78.644715    6.425950    4.806199   \n",
       "RB1CC1      64.107659  103.507439   67.460954    2.422047    1.315212   \n",
       "DAB1        59.046503  101.898975   63.364243    0.644035    0.295579   \n",
       "CX3CL1      64.463005  107.489100   67.656206    1.868454   -0.095197   \n",
       "HERC1       63.109431  107.553437   66.422604    2.079405    0.340070   \n",
       "\n",
       "condition         TRIO        ANK3  TBR1_pred  SATB2_pred        CUL1  \\\n",
       "condition                                                               \n",
       "ctrl         60.952423   65.258979  68.794202   67.136924   73.920503   \n",
       "TBR1_real   100.373285  105.102122  87.274573  106.725244  114.530111   \n",
       "SATB2_real   65.175732   68.499980  71.896978   70.450008   78.644715   \n",
       "BCL11B        0.988033    1.541176   4.334443    1.729550    6.425950   \n",
       "XPO7          0.676240   -0.097088   3.812964    0.318206    4.806199   \n",
       "TRIO          0.000000    0.299917   3.045191    0.849920    7.035060   \n",
       "ANK3          0.299917    0.000000   3.351542   -0.000427    6.006686   \n",
       "TBR1_pred     3.045191    3.351542   0.000000    3.317558    9.087839   \n",
       "SATB2_pred    0.849920   -0.000427   3.317558    0.000000    5.749104   \n",
       "CUL1          7.035060    6.006686   9.087839    5.749104    0.000000   \n",
       "RB1CC1        1.116280    0.300558   3.750959    0.505019    7.966427   \n",
       "DAB1         -0.055928   -0.101294   3.744122    0.361671    5.768819   \n",
       "CX3CL1        0.474367   -0.180701   4.179721    0.583202    5.166615   \n",
       "HERC1         1.150591   -0.070040   4.645768    0.567201    5.471063   \n",
       "\n",
       "condition       RB1CC1        DAB1      CX3CL1       HERC1  \n",
       "condition                                                   \n",
       "ctrl         64.107659   59.046503   64.463005   63.109431  \n",
       "TBR1_real   103.507439  101.898975  107.489100  107.553437  \n",
       "SATB2_real   67.460954   63.364243   67.656206   66.422604  \n",
       "BCL11B        2.422047    0.644035    1.868454    2.079405  \n",
       "XPO7          1.315212    0.295579   -0.095197    0.340070  \n",
       "TRIO          1.116280   -0.055928    0.474367    1.150591  \n",
       "ANK3          0.300558   -0.101294   -0.180701   -0.070040  \n",
       "TBR1_pred     3.750959    3.744122    4.179721    4.645768  \n",
       "SATB2_pred    0.505019    0.361671    0.583202    0.567201  \n",
       "CUL1          7.966427    5.768819    5.166615    5.471063  \n",
       "RB1CC1        0.000000    0.522131    1.187555    0.711000  \n",
       "DAB1          0.522131    0.000000   -0.029607    0.100260  \n",
       "CX3CL1        1.187555   -0.029607    0.000000   -0.240824  \n",
       "HERC1         0.711000    0.100260   -0.240824    0.000000  "
      ]
     },
     "execution_count": 41,
     "metadata": {},
     "output_type": "execute_result"
    }
   ],
   "source": [
    "estats"
   ]
  },
  {
   "cell_type": "code",
   "execution_count": 6,
   "id": "d2a01b52",
   "metadata": {
    "ExecuteTime": {
     "end_time": "2022-09-29T16:04:42.604683Z",
     "start_time": "2022-09-29T16:04:41.615605Z"
    },
    "tags": []
   },
   "outputs": [],
   "source": [
    "if 'processed' in adata.uns.keys():\n",
    "    print('The dataset is already processed. Skipping processing...')\n",
    "else:\n",
    "    adata.layers['counts'] = adata.X.copy()\n",
    "\n",
    "    # basic qc and pp\n",
    "    sc.pp.filter_cells(adata, min_counts=1000)\n",
    "    sc.pp.normalize_per_cell(adata)\n",
    "    sc.pp.filter_genes(adata, min_cells=50)\n",
    "    sc.pp.log1p(adata)\n",
    "\n",
    "    # high class imbalance\n",
    "    adata = equal_subsampling(adata, 'perturbation', N_min=200)\n",
    "    sc.pp.filter_genes(adata, min_cells=3)  # sanity cleaning\n",
    "\n",
    "    # select HVGs\n",
    "    n_var_max = 2000  # max total features to select\n",
    "    sc.pp.highly_variable_genes(adata, n_top_genes=n_var_max, subset=False, flavor='seurat_v3', layer='counts')\n",
    "    sc.pp.pca(adata, use_highly_variable=True)\n",
    "    sc.pp.neighbors(adata)\n",
    "\n",
    "    adata.uns['processed'] = True"
   ]
  },
  {
   "cell_type": "markdown",
   "id": "66cf4603-4a92-4e70-be45-23b9a399a02c",
   "metadata": {},
   "source": [
    "# WORKBENCH"
   ]
  },
  {
   "cell_type": "code",
   "execution_count": 8,
   "id": "0726b52b-1951-4124-a5bf-8fdce2b35989",
   "metadata": {
    "tags": []
   },
   "outputs": [
    {
     "data": {
      "text/plain": [
       "['a', 'c']"
      ]
     },
     "execution_count": 8,
     "metadata": {},
     "output_type": "execute_result"
    }
   ],
   "source": [
    "['a'] + ['c']"
   ]
  },
  {
   "cell_type": "markdown",
   "id": "8128eb97",
   "metadata": {},
   "source": [
    "# E-distance"
   ]
  },
  {
   "cell_type": "code",
   "execution_count": 13,
   "id": "c9a80da0",
   "metadata": {
    "ExecuteTime": {
     "end_time": "2022-09-29T16:04:45.748119Z",
     "start_time": "2022-09-29T16:04:45.744541Z"
    },
    "tags": []
   },
   "outputs": [
    {
     "name": "stderr",
     "output_type": "stream",
     "text": [
      "100%|██████████| 496/496 [00:00<00:00, 625.12it/s]\n"
     ]
    }
   ],
   "source": [
    "# Compute E-distances\n",
    "estats = edist(adata, obs_key='perturbation', obsm_key='X_pca', dist='sqeuclidean')"
   ]
  },
  {
   "cell_type": "code",
   "execution_count": 14,
   "id": "dd7d08a9",
   "metadata": {
    "ExecuteTime": {
     "end_time": "2022-09-29T16:04:45.774615Z",
     "start_time": "2022-09-29T16:04:45.749528Z"
    },
    "tags": []
   },
   "outputs": [
    {
     "data": {
      "text/html": [
       "<div>\n",
       "<style scoped>\n",
       "    .dataframe tbody tr th:only-of-type {\n",
       "        vertical-align: middle;\n",
       "    }\n",
       "\n",
       "    .dataframe tbody tr th {\n",
       "        vertical-align: top;\n",
       "    }\n",
       "\n",
       "    .dataframe thead th {\n",
       "        text-align: right;\n",
       "    }\n",
       "</style>\n",
       "<table border=\"1\" class=\"dataframe\">\n",
       "  <thead>\n",
       "    <tr style=\"text-align: right;\">\n",
       "      <th>perturbation</th>\n",
       "      <th>control</th>\n",
       "      <th>LAT_2</th>\n",
       "      <th>LCK_2</th>\n",
       "      <th>JUND_2</th>\n",
       "      <th>ZAP70_2</th>\n",
       "      <th>FOS_2</th>\n",
       "      <th>EGR3_2</th>\n",
       "      <th>EGR4_1</th>\n",
       "      <th>PTPN11_2</th>\n",
       "      <th>LAT_1</th>\n",
       "      <th>...</th>\n",
       "      <th>NFAT5_2</th>\n",
       "      <th>EGR2_2</th>\n",
       "      <th>DOK2_2</th>\n",
       "      <th>FOS_1</th>\n",
       "      <th>LCK_1</th>\n",
       "      <th>PTPN6_2</th>\n",
       "      <th>NR4A1_1</th>\n",
       "      <th>ZAP70_1</th>\n",
       "      <th>RUNX2_2</th>\n",
       "      <th>JUN_2</th>\n",
       "    </tr>\n",
       "    <tr>\n",
       "      <th>perturbation</th>\n",
       "      <th></th>\n",
       "      <th></th>\n",
       "      <th></th>\n",
       "      <th></th>\n",
       "      <th></th>\n",
       "      <th></th>\n",
       "      <th></th>\n",
       "      <th></th>\n",
       "      <th></th>\n",
       "      <th></th>\n",
       "      <th></th>\n",
       "      <th></th>\n",
       "      <th></th>\n",
       "      <th></th>\n",
       "      <th></th>\n",
       "      <th></th>\n",
       "      <th></th>\n",
       "      <th></th>\n",
       "      <th></th>\n",
       "      <th></th>\n",
       "      <th></th>\n",
       "    </tr>\n",
       "  </thead>\n",
       "  <tbody>\n",
       "    <tr>\n",
       "      <th>control</th>\n",
       "      <td>0.000000</td>\n",
       "      <td>2.817963</td>\n",
       "      <td>2.021977</td>\n",
       "      <td>1.031441</td>\n",
       "      <td>2.754259</td>\n",
       "      <td>0.301189</td>\n",
       "      <td>0.750653</td>\n",
       "      <td>0.350060</td>\n",
       "      <td>1.291844</td>\n",
       "      <td>3.554450</td>\n",
       "      <td>...</td>\n",
       "      <td>0.378877</td>\n",
       "      <td>0.724048</td>\n",
       "      <td>0.747261</td>\n",
       "      <td>1.705717</td>\n",
       "      <td>2.237211</td>\n",
       "      <td>0.701783</td>\n",
       "      <td>0.955657</td>\n",
       "      <td>2.527144</td>\n",
       "      <td>1.041078</td>\n",
       "      <td>1.931288</td>\n",
       "    </tr>\n",
       "    <tr>\n",
       "      <th>LAT_2</th>\n",
       "      <td>2.817963</td>\n",
       "      <td>0.000000</td>\n",
       "      <td>0.108023</td>\n",
       "      <td>0.375572</td>\n",
       "      <td>-0.086406</td>\n",
       "      <td>1.287670</td>\n",
       "      <td>0.476955</td>\n",
       "      <td>1.717763</td>\n",
       "      <td>0.747858</td>\n",
       "      <td>0.064079</td>\n",
       "      <td>...</td>\n",
       "      <td>1.491151</td>\n",
       "      <td>0.664894</td>\n",
       "      <td>0.938912</td>\n",
       "      <td>0.216857</td>\n",
       "      <td>0.230611</td>\n",
       "      <td>1.592959</td>\n",
       "      <td>1.099997</td>\n",
       "      <td>0.342951</td>\n",
       "      <td>0.370278</td>\n",
       "      <td>0.195334</td>\n",
       "    </tr>\n",
       "    <tr>\n",
       "      <th>LCK_2</th>\n",
       "      <td>2.021977</td>\n",
       "      <td>0.108023</td>\n",
       "      <td>0.000000</td>\n",
       "      <td>0.229973</td>\n",
       "      <td>0.186105</td>\n",
       "      <td>0.999078</td>\n",
       "      <td>0.325879</td>\n",
       "      <td>1.221093</td>\n",
       "      <td>0.250805</td>\n",
       "      <td>0.186737</td>\n",
       "      <td>...</td>\n",
       "      <td>1.279692</td>\n",
       "      <td>0.482461</td>\n",
       "      <td>0.719397</td>\n",
       "      <td>0.029821</td>\n",
       "      <td>-0.001440</td>\n",
       "      <td>0.882495</td>\n",
       "      <td>0.467896</td>\n",
       "      <td>0.055257</td>\n",
       "      <td>0.242149</td>\n",
       "      <td>0.048678</td>\n",
       "    </tr>\n",
       "    <tr>\n",
       "      <th>JUND_2</th>\n",
       "      <td>1.031441</td>\n",
       "      <td>0.375572</td>\n",
       "      <td>0.229973</td>\n",
       "      <td>0.000000</td>\n",
       "      <td>0.359794</td>\n",
       "      <td>0.210584</td>\n",
       "      <td>-0.085757</td>\n",
       "      <td>0.478101</td>\n",
       "      <td>0.473056</td>\n",
       "      <td>0.866877</td>\n",
       "      <td>...</td>\n",
       "      <td>0.349776</td>\n",
       "      <td>-0.077186</td>\n",
       "      <td>0.073844</td>\n",
       "      <td>0.165285</td>\n",
       "      <td>0.434723</td>\n",
       "      <td>0.694040</td>\n",
       "      <td>0.558524</td>\n",
       "      <td>0.696989</td>\n",
       "      <td>-0.034427</td>\n",
       "      <td>0.129465</td>\n",
       "    </tr>\n",
       "    <tr>\n",
       "      <th>ZAP70_2</th>\n",
       "      <td>2.754259</td>\n",
       "      <td>-0.086406</td>\n",
       "      <td>0.186105</td>\n",
       "      <td>0.359794</td>\n",
       "      <td>0.000000</td>\n",
       "      <td>1.282809</td>\n",
       "      <td>0.468966</td>\n",
       "      <td>1.793397</td>\n",
       "      <td>0.977730</td>\n",
       "      <td>0.266221</td>\n",
       "      <td>...</td>\n",
       "      <td>1.472765</td>\n",
       "      <td>0.533258</td>\n",
       "      <td>0.866270</td>\n",
       "      <td>0.243210</td>\n",
       "      <td>0.365051</td>\n",
       "      <td>1.705474</td>\n",
       "      <td>1.242829</td>\n",
       "      <td>0.495465</td>\n",
       "      <td>0.350968</td>\n",
       "      <td>0.308219</td>\n",
       "    </tr>\n",
       "  </tbody>\n",
       "</table>\n",
       "<p>5 rows × 31 columns</p>\n",
       "</div>"
      ],
      "text/plain": [
       "perturbation   control     LAT_2     LCK_2    JUND_2   ZAP70_2     FOS_2  \\\n",
       "perturbation                                                               \n",
       "control       0.000000  2.817963  2.021977  1.031441  2.754259  0.301189   \n",
       "LAT_2         2.817963  0.000000  0.108023  0.375572 -0.086406  1.287670   \n",
       "LCK_2         2.021977  0.108023  0.000000  0.229973  0.186105  0.999078   \n",
       "JUND_2        1.031441  0.375572  0.229973  0.000000  0.359794  0.210584   \n",
       "ZAP70_2       2.754259 -0.086406  0.186105  0.359794  0.000000  1.282809   \n",
       "\n",
       "perturbation    EGR3_2    EGR4_1  PTPN11_2     LAT_1  ...   NFAT5_2    EGR2_2  \\\n",
       "perturbation                                          ...                       \n",
       "control       0.750653  0.350060  1.291844  3.554450  ...  0.378877  0.724048   \n",
       "LAT_2         0.476955  1.717763  0.747858  0.064079  ...  1.491151  0.664894   \n",
       "LCK_2         0.325879  1.221093  0.250805  0.186737  ...  1.279692  0.482461   \n",
       "JUND_2       -0.085757  0.478101  0.473056  0.866877  ...  0.349776 -0.077186   \n",
       "ZAP70_2       0.468966  1.793397  0.977730  0.266221  ...  1.472765  0.533258   \n",
       "\n",
       "perturbation    DOK2_2     FOS_1     LCK_1   PTPN6_2   NR4A1_1   ZAP70_1  \\\n",
       "perturbation                                                               \n",
       "control       0.747261  1.705717  2.237211  0.701783  0.955657  2.527144   \n",
       "LAT_2         0.938912  0.216857  0.230611  1.592959  1.099997  0.342951   \n",
       "LCK_2         0.719397  0.029821 -0.001440  0.882495  0.467896  0.055257   \n",
       "JUND_2        0.073844  0.165285  0.434723  0.694040  0.558524  0.696989   \n",
       "ZAP70_2       0.866270  0.243210  0.365051  1.705474  1.242829  0.495465   \n",
       "\n",
       "perturbation   RUNX2_2     JUN_2  \n",
       "perturbation                      \n",
       "control       1.041078  1.931288  \n",
       "LAT_2         0.370278  0.195334  \n",
       "LCK_2         0.242149  0.048678  \n",
       "JUND_2       -0.034427  0.129465  \n",
       "ZAP70_2       0.350968  0.308219  \n",
       "\n",
       "[5 rows x 31 columns]"
      ]
     },
     "execution_count": 14,
     "metadata": {},
     "output_type": "execute_result"
    }
   ],
   "source": [
    "# square matrix, all pairs of perturbations get an e-distance\n",
    "estats.head()"
   ]
  },
  {
   "cell_type": "code",
   "execution_count": 15,
   "id": "055c8dc2",
   "metadata": {
    "ExecuteTime": {
     "end_time": "2022-09-29T16:04:45.871107Z",
     "start_time": "2022-09-29T16:04:45.775990Z"
    },
    "tags": []
   },
   "outputs": [
    {
     "data": {
      "image/png": "[encoded data removed]",
      "text/plain": [
       "<Figure size 640x480 with 1 Axes>"
      ]
     },
     "metadata": {},
     "output_type": "display_data"
    }
   ],
   "source": [
    "with sns.axes_style('whitegrid'):\n",
    "    sns.violinplot(data=estats.loc['control'], inner=None)\n",
    "    sns.swarmplot(data=estats.loc['control'], size=10, color='white')\n",
    "pl.xticks([0], [''])\n",
    "pl.ylabel('E-distance to control')\n",
    "pl.title('Distribution of E-distances to control')\n",
    "pl.show()"
   ]
  },
  {
   "cell_type": "code",
   "execution_count": 16,
   "id": "562d3794",
   "metadata": {
    "ExecuteTime": {
     "end_time": "2022-09-29T16:04:46.711182Z",
     "start_time": "2022-09-29T16:04:45.872593Z"
    }
   },
   "outputs": [
    {
     "data": {
      "image/png": "[encoded data removed]",
      "text/plain": [
       "<Figure size 1000x800 with 2 Axes>"
      ]
     },
     "metadata": {},
     "output_type": "display_data"
    }
   ],
   "source": [
    "fig, ax = pl.subplots(1,1, figsize=[10,8])\n",
    "order = estats.sort_index().index\n",
    "sns.heatmap(estats.loc[order, order])\n",
    "pl.show()"
   ]
  },
  {
   "cell_type": "markdown",
   "id": "2c1ca1b1",
   "metadata": {},
   "source": [
    "# E-testing"
   ]
  },
  {
   "cell_type": "code",
   "execution_count": 17,
   "id": "d28091ca",
   "metadata": {
    "ExecuteTime": {
     "end_time": "2022-09-29T16:06:29.323188Z",
     "start_time": "2022-09-29T16:04:46.714287Z"
    },
    "tags": []
   },
   "outputs": [
    {
     "name": "stderr",
     "output_type": "stream",
     "text": [
      "100%|██████████| 1000/1000 [00:07<00:00, 129.30it/s]\n",
      "/opt/conda/lib/python3.10/site-packages/statsmodels/stats/multitest.py:177: RuntimeWarning: divide by zero encountered in log1p\n",
      "  np.log1p(-pvals))\n"
     ]
    }
   ],
   "source": [
    "# e-testing (can be slow)\n",
    "df = etest(adata, obs_key='perturbation', obsm_key='X_pca', dist='sqeuclidean', control='control', alpha=0.05, runs=1000, n_jobs=-1)"
   ]
  },
  {
   "cell_type": "code",
   "execution_count": 20,
   "id": "b605f18b",
   "metadata": {
    "tags": []
   },
   "outputs": [
    {
     "data": {
      "text/html": [
       "<div>\n",
       "<style scoped>\n",
       "    .dataframe tbody tr th:only-of-type {\n",
       "        vertical-align: middle;\n",
       "    }\n",
       "\n",
       "    .dataframe tbody tr th {\n",
       "        vertical-align: top;\n",
       "    }\n",
       "\n",
       "    .dataframe thead th {\n",
       "        text-align: right;\n",
       "    }\n",
       "</style>\n",
       "<table border=\"1\" class=\"dataframe\">\n",
       "  <thead>\n",
       "    <tr style=\"text-align: right;\">\n",
       "      <th></th>\n",
       "      <th>edist</th>\n",
       "      <th>pvalue</th>\n",
       "      <th>significant</th>\n",
       "      <th>pvalue_adj</th>\n",
       "      <th>significant_adj</th>\n",
       "    </tr>\n",
       "  </thead>\n",
       "  <tbody>\n",
       "    <tr>\n",
       "      <th>DOK2_1</th>\n",
       "      <td>0.000000</td>\n",
       "      <td>1.000</td>\n",
       "      <td>False</td>\n",
       "      <td>1.000000</td>\n",
       "      <td>False</td>\n",
       "    </tr>\n",
       "    <tr>\n",
       "      <th>DOK2_2</th>\n",
       "      <td>0.121912</td>\n",
       "      <td>0.045</td>\n",
       "      <td>True</td>\n",
       "      <td>0.450404</td>\n",
       "      <td>False</td>\n",
       "    </tr>\n",
       "    <tr>\n",
       "      <th>EGR1_1</th>\n",
       "      <td>0.160344</td>\n",
       "      <td>0.028</td>\n",
       "      <td>True</td>\n",
       "      <td>0.336727</td>\n",
       "      <td>False</td>\n",
       "    </tr>\n",
       "    <tr>\n",
       "      <th>EGR1_2</th>\n",
       "      <td>0.133719</td>\n",
       "      <td>0.051</td>\n",
       "      <td>False</td>\n",
       "      <td>0.466426</td>\n",
       "      <td>False</td>\n",
       "    </tr>\n",
       "    <tr>\n",
       "      <th>EGR2_1</th>\n",
       "      <td>0.293057</td>\n",
       "      <td>0.002</td>\n",
       "      <td>True</td>\n",
       "      <td>0.041171</td>\n",
       "      <td>True</td>\n",
       "    </tr>\n",
       "  </tbody>\n",
       "</table>\n",
       "</div>"
      ],
      "text/plain": [
       "           edist  pvalue  significant  pvalue_adj  significant_adj\n",
       "DOK2_1  0.000000   1.000        False    1.000000            False\n",
       "DOK2_2  0.121912   0.045         True    0.450404            False\n",
       "EGR1_1  0.160344   0.028         True    0.336727            False\n",
       "EGR1_2  0.133719   0.051        False    0.466426            False\n",
       "EGR2_1  0.293057   0.002         True    0.041171             True"
      ]
     },
     "execution_count": 20,
     "metadata": {},
     "output_type": "execute_result"
    }
   ],
   "source": [
    "df.head()"
   ]
  },
  {
   "cell_type": "code",
   "execution_count": 21,
   "id": "17024e96",
   "metadata": {
    "ExecuteTime": {
     "end_time": "2022-09-29T16:06:29.587638Z",
     "start_time": "2022-09-29T16:06:29.333666Z"
    },
    "tags": []
   },
   "outputs": [
    {
     "data": {
      "image/png": "[encoded data removed]",
      "text/plain": [
       "<Figure size 640x480 with 1 Axes>"
      ]
     },
     "metadata": {},
     "output_type": "display_data"
    }
   ],
   "source": [
    "df.loc[df.index=='control', 'significant_adj'] = 'control'\n",
    "df['neglog10_pvalue_adj'] = -np.log10(df['pvalue_adj'])\n",
    "with sns.axes_style('whitegrid'):\n",
    "    sns.scatterplot(data=df, y='neglog10_pvalue_adj', x='edist', hue='significant_adj', palette={True: 'tab:green', False: 'tab:red', 'control': 'tab:orange'}, s=30)\n",
    "pl.title('E-test results')\n",
    "pl.xlabel('E-distance from control')\n",
    "pl.ylabel('E-test neg log10 of adjusted p-value')\n",
    "pl.show()"
   ]
  },
  {
   "cell_type": "code",
   "execution_count": 22,
   "id": "96ac50fa",
   "metadata": {
    "ExecuteTime": {
     "end_time": "2022-09-29T16:06:29.756638Z",
     "start_time": "2022-09-29T16:06:29.589127Z"
    },
    "tags": []
   },
   "outputs": [
    {
     "data": {
      "image/png": "[encoded data removed]",
      "text/plain": [
       "<Figure size 640x480 with 1 Axes>"
      ]
     },
     "metadata": {},
     "output_type": "display_data"
    }
   ],
   "source": [
    "with sns.axes_style('whitegrid'):\n",
    "    sns.violinplot(data=df, y='edist', inner=None)\n",
    "    sns.swarmplot(data=df, x=[0]*len(df), y='edist', size=10, hue='significant_adj', dodge=False, palette={True: 'tab:green', False: 'tab:red', 'control': 'tab:orange'})\n",
    "pl.xticks([0], [''])\n",
    "pl.ylabel('E-distance to control')\n",
    "pl.title('Distribution of E-distances to control')\n",
    "pl.show()"
   ]
  },
  {
   "cell_type": "code",
   "execution_count": null,
   "id": "660eccf3",
   "metadata": {},
   "outputs": [],
   "source": []
  }
 ],
 "metadata": {
  "hide_input": false,
  "kernelspec": {
   "display_name": "Python 3 (ipykernel)",
   "language": "python",
   "name": "python3"
  },
  "language_info": {
   "codemirror_mode": {
    "name": "ipython",
    "version": 3
   },
   "file_extension": ".py",
   "mimetype": "text/x-python",
   "name": "python",
   "nbconvert_exporter": "python",
   "pygments_lexer": "ipython3",
   "version": "3.11.13"
  },
  "vscode": {
   "interpreter": {
    "hash": "b286f6d81d26b8c5e9b75f0b330b147d4e82d310a48f1d10d555cf8099dd470e"
   }
  }
 },
 "nbformat": 4,
 "nbformat_minor": 5
}
