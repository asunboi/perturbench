{
 "cells": [
  {
   "cell_type": "code",
   "execution_count": 1,
   "metadata": {},
   "outputs": [
    {
     "name": "stdout",
     "output_type": "stream",
     "text": [
      "/gpfs/group/jin/asun/perturbench/0_datasets\n"
     ]
    }
   ],
   "source": [
    "import os\n",
    "os.chdir(\"/gpfs/home/asun/jin_lab/perturbench/0_datasets\")\n",
    "print(os.getcwd())\n",
    "\n",
    "import sys\n",
    "sys.path.append(os.path.abspath('..'))"
   ]
  },
  {
   "cell_type": "code",
   "execution_count": 2,
   "metadata": {},
   "outputs": [],
   "source": [
    "import scanpy as sc\n",
    "import matplotlib.pyplot as plt\n",
    "import pandas as pd\n",
    "import numpy as np\n"
   ]
  },
  {
   "cell_type": "code",
   "execution_count": 3,
   "metadata": {},
   "outputs": [
    {
     "data": {
      "text/plain": [
       "AnnData object with n_obs × n_vars = 21700 × 5000\n",
       "    obs: 'orig.ident', 'nCount_RNA', 'nFeature_RNA', 'seurat_clusters', 'Assign', 'scds', 'cxds', 'bcds', 'Sample', 'nCount_refAssay', 'nFeature_refAssay', 'predicted.subclass.score', 'predicted.subclass', 'CT', 'mito', 'BioSamp', 'CT2', 'ForPlot', 'Remove', 'active_ident', 'Assign_clean', 'condition', 'cell_type', 'cell_class'\n",
       "    var: 'variable_gene', 'gene_name', 'highly_variable', 'means', 'dispersions', 'dispersions_norm'\n",
       "    uns: 'hvg', 'log1p'"
      ]
     },
     "execution_count": 3,
     "metadata": {},
     "output_type": "execute_result"
    }
   ],
   "source": [
    "boli = sc.read_h5ad('/gpfs/home/asun/jin_lab/perturbench/0_datasets/boli_ctx_scprocess_no+ctrl.h5ad')\n",
    "boli"
   ]
  },
  {
   "cell_type": "code",
   "execution_count": 4,
   "metadata": {},
   "outputs": [],
   "source": [
    "\n",
    "# start with default \"train\"\n",
    "boli.obs[\"transfer_split_seed1\"] = \"train\"\n",
    "\n",
    "# condition = TBR1 or SATB2  AND  cell_type = L6_CT_CTX → \"test\"\n",
    "mask_test = (\n",
    "    boli.obs[\"condition\"].isin([\"TBR1\", \"SATB2\"])\n",
    "    & (boli.obs[\"cell_type\"] == \"L6_CT_CTX\")\n",
    ")\n",
    "boli.obs.loc[mask_test, \"transfer_split_seed1\"] = \"test\"\n",
    "\n",
    "# condition = XPO7  AND  cell_type = L6_CT_CTX → \"val\"\n",
    "mask_val = (\n",
    "    (boli.obs[\"condition\"] == \"XPO7\")\n",
    "    & (boli.obs[\"cell_type\"] == \"L6_CT_CTX\")\n",
    ")\n",
    "boli.obs.loc[mask_val, \"transfer_split_seed1\"] = \"val\""
   ]
  },
  {
   "cell_type": "code",
   "execution_count": 5,
   "metadata": {},
   "outputs": [],
   "source": [
    "import numpy as np\n",
    "\n",
    "SEED = 42\n",
    "rng = np.random.default_rng(SEED)\n",
    "\n",
    "ctrl_label = \"ctrl\"                 # change if your control label is different\n",
    "split_col  = \"transfer_split_seed1\"\n",
    "\n",
    "# Make sure the split column exists (you already set defaults above)\n",
    "if split_col not in boli.obs:\n",
    "    boli.obs[split_col] = \"train\"\n",
    "\n",
    "# Work per cell type, only among control cells\n",
    "for ct in boli.obs.loc[boli.obs[\"condition\"] == ctrl_label, \"cell_type\"].unique():\n",
    "    # indices (row labels) of ctrl cells for this cell type\n",
    "    idx = boli.obs.index[\n",
    "        (boli.obs[\"condition\"] == ctrl_label) & (boli.obs[\"cell_type\"] == ct)\n",
    "    ].to_numpy()\n",
    "\n",
    "    # randomize order (without replacement)\n",
    "    rng.shuffle(idx)\n",
    "\n",
    "    n = idx.size\n",
    "    # split points for ~50% / 25% / 25%\n",
    "    p1 = int(np.floor(0.50 * n))\n",
    "    p2 = int(np.floor(0.75 * n))\n",
    "\n",
    "    train_idx = idx[:p1]\n",
    "    val_idx   = idx[p1:p2]\n",
    "    test_idx  = idx[p2:]\n",
    "\n",
    "    # assign splits\n",
    "    boli.obs.loc[train_idx, split_col] = \"train\"\n",
    "    boli.obs.loc[val_idx,   split_col] = \"val\"\n",
    "    boli.obs.loc[test_idx,  split_col] = \"test\"\n",
    "\n",
    "# (optional) make the column categorical for consistency\n",
    "boli.obs[split_col] = boli.obs[split_col].astype(\"category\")"
   ]
  },
  {
   "cell_type": "code",
   "execution_count": null,
   "metadata": {},
   "outputs": [],
   "source": [
    "# Save CSV with transfer split information\n",
    "out = boli.obs[[\"transfer_split_seed1\"]].copy()\n",
    "csv_filename = f\"linear_baseline_split_ctrls.csv\"\n",
    "out.to_csv(csv_filename, index=True, index_label=\"cell_barcode\", header=False)"
   ]
  }
 ],
 "metadata": {
  "kernelspec": {
   "display_name": "perturbbench",
   "language": "python",
   "name": "python3"
  },
  "language_info": {
   "codemirror_mode": {
    "name": "ipython",
    "version": 3
   },
   "file_extension": ".py",
   "mimetype": "text/x-python",
   "name": "python",
   "nbconvert_exporter": "python",
   "pygments_lexer": "ipython3",
   "version": "3.11.13"
  }
 },
 "nbformat": 4,
 "nbformat_minor": 2
}
